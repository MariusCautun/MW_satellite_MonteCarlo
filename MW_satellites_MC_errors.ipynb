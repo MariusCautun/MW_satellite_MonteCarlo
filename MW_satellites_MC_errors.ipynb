{
 "cells": [
  {
   "cell_type": "code",
   "execution_count": 1,
   "metadata": {},
   "outputs": [],
   "source": [
    "import os\n",
    "import sys\n",
    "nb_dir = \"../include_files\"\n",
    "if nb_dir not in sys.path:\n",
    "    sys.path.append(nb_dir)\n",
    "\n",
    "\n",
    "import numpy as np\n",
    "import matplotlib.pyplot as plt\n",
    "from matplotlib import gridspec\n",
    "from matplotlib.ticker import MultipleLocator, FormatStrFormatter, AutoMinorLocator\n",
    "%matplotlib inline\n",
    "import h5py as h5\n",
    "import cosmology\n",
    "\n",
    "from matplotlib.backends.backend_pdf import PdfPages\n",
    "\n",
    "plt.style.use(\"./include_files/marius.mplstyle\")\n",
    "fontSize = 15\n",
    "lineWidth = 1.5\n",
    "\n",
    "colors = [u'#1f77b4', u'#ff7f0e', u'#2ca02c', u'#d62728', u'#9467bd', u'#8c564b', u'#e377c2', u'#7f7f7f', u'#bcbd22', u'#17becf']\n",
    "\n",
    "import contextlib\n",
    "@contextlib.contextmanager\n",
    "def printoptions(*args, **kwargs):\n",
    "    original = np.get_printoptions()\n",
    "    np.set_printoptions(*args, **kwargs)\n",
    "    try:\n",
    "        yield\n",
    "    finally: \n",
    "        np.set_printoptions(**original)"
   ]
  },
  {
   "cell_type": "markdown",
   "metadata": {},
   "source": [
    "# Read the input data  \n",
    "  \n",
    "This consists of the McConnachie and Venn (2020) Gaia EDR3 proper motions. The paper is https://ui.adsabs.harvard.edu/abs/2020RNAAS...4..229M/abstract and the original method paper (applied to DR2) is https://ui.adsabs.harvard.edu/abs/2020AJ....160..124M/abstract .\n",
    "  \n",
    "It does not contain the proper motions for Sag, LMC, and SMC -- these are read from the Gaia DR2 flagship paper on proper motions: https://ui.adsabs.harvard.edu/abs/2018A%26A...616A..12G/abstract  \n",
    "  \n",
    "  \n",
    "### First start by reading the McConnacchie & Venn data."
   ]
  },
  {
   "cell_type": "code",
   "execution_count": 3,
   "metadata": {},
   "outputs": [
    {
     "name": "stdout",
     "output_type": "stream",
     "text": [
      "Filename: data/NearbyGalaxies_Jan2021_PUBLIC.fits\n",
      "No.    Name      Ver    Type      Cards   Dimensions   Format\n",
      "  0  PRIMARY       1 PrimaryHDU      16   (5262,)   uint8   \n",
      "  1  Joined        1 BinTableHDU    125   144R x 49C   [16A, 10A, 11A, E, E, E, E, E, E, E, E, E, E, E, E, E, E, E, E, E, E, E, E, E, E, E, E, E, E, E, E, E, E, E, E, E, E, E, E, E, E, I, E, E, E, E, E, E, 53A]   \n"
     ]
    },
    {
     "name": "stderr",
     "output_type": "stream",
     "text": [
      "WARNING: VerifyWarning: It is strongly recommended that column names contain only upper and lower-case ASCII letters, digits, or underscores for maximum compatibility with other software (got '[Fe/H]'). [astropy.io.fits.column]\n"
     ]
    },
    {
     "data": {
      "text/html": [
       "<div><i>Table length=3</i>\n",
       "<table id=\"table4691256464\" class=\"table-striped table-bordered table-condensed\">\n",
       "<thead><tr><th>GalaxyName</th><th>RA</th><th>Dec</th><th>EB-V</th><th>dmod</th><th>dmod+</th><th>dmod-</th><th>vh</th><th>vh+</th><th>vh-</th><th>Vmag</th><th>Vmag+</th><th>Vmag-</th><th>PA</th><th>PA+</th><th>PA-</th><th>e=1-b/a</th><th>e+</th><th>e-</th><th>muVo</th><th>muVo+</th><th>muVo-</th><th>rh</th><th>rh+</th><th>rh-</th><th>sigma_s</th><th>sigma_s+</th><th>sigma_s-</th><th>vrot_s</th><th>vrot_s+</th><th>vrot_s-</th><th>MHI</th><th>sigma_g</th><th>sigma_g+</th><th>sigma_g-</th><th>vrot_g</th><th>vrot_g+</th><th>vrot_g-</th><th>[Fe/H]</th><th>feh+</th><th>feh-</th><th>F</th><th>pmra</th><th>epmra+</th><th>epmra-</th><th>pmdec</th><th>epmdec+</th><th>epmdec-</th><th>References</th></tr></thead>\n",
       "<thead><tr><th>bytes16</th><th>bytes10</th><th>bytes11</th><th>float32</th><th>float32</th><th>float32</th><th>float32</th><th>float32</th><th>float32</th><th>float32</th><th>float32</th><th>float32</th><th>float32</th><th>float32</th><th>float32</th><th>float32</th><th>float32</th><th>float32</th><th>float32</th><th>float32</th><th>float32</th><th>float32</th><th>float32</th><th>float32</th><th>float32</th><th>float32</th><th>float32</th><th>float32</th><th>float32</th><th>float32</th><th>float32</th><th>float32</th><th>float32</th><th>float32</th><th>float32</th><th>float32</th><th>float32</th><th>float32</th><th>float32</th><th>float32</th><th>float32</th><th>int16</th><th>float32</th><th>float32</th><th>float32</th><th>float32</th><th>float32</th><th>float32</th><th>bytes53</th></tr></thead>\n",
       "<tr><td>*Bootes3</td><td>13:57:12.0</td><td>26:48:0.0</td><td>0.021</td><td>18.35</td><td>0.1</td><td>0.1</td><td>197.5</td><td>3.8</td><td>3.8</td><td>12.6</td><td>0.5</td><td>0.5</td><td>90.0</td><td>999.0</td><td>999.0</td><td>0.5</td><td>999.0</td><td>999.0</td><td>31.3</td><td>0.3</td><td>0.3</td><td>999.0</td><td>999.0</td><td>999.0</td><td>14.0</td><td>3.2</td><td>3.2</td><td>999.0</td><td>999.0</td><td>999.0</td><td>999.0</td><td>999.0</td><td>999.0</td><td>999.0</td><td>999.0</td><td>999.0</td><td>999.0</td><td>-2.1</td><td>0.2</td><td>0.2</td><td>2</td><td>--</td><td>--</td><td>--</td><td>--</td><td>--</td><td>--</td><td>(14)(15)(99)</td></tr>\n",
       "<tr><td>*CanisMajor</td><td>7:12:35.0</td><td>-27:40:0.0</td><td>0.264</td><td>14.29</td><td>0.3</td><td>0.3</td><td>87.0</td><td>4.0</td><td>4.0</td><td>-0.1</td><td>0.8</td><td>0.8</td><td>123.0</td><td>999.0</td><td>999.0</td><td>999.0</td><td>999.0</td><td>999.0</td><td>24.0</td><td>0.6</td><td>0.6</td><td>999.0</td><td>999.0</td><td>999.0</td><td>20.0</td><td>3.0</td><td>3.0</td><td>999.0</td><td>999.0</td><td>999.0</td><td>999.0</td><td>999.0</td><td>999.0</td><td>999.0</td><td>999.0</td><td>999.0</td><td>999.0</td><td>-0.5</td><td>0.2</td><td>0.2</td><td>4</td><td>--</td><td>--</td><td>--</td><td>--</td><td>--</td><td>--</td><td>(1)(2)(95)(176)</td></tr>\n",
       "<tr><td>*Cetus2</td><td>1:17:52.8</td><td>-17:25:12.0</td><td>0.02</td><td>17.1</td><td>0.1</td><td>0.1</td><td>999.0</td><td>999.0</td><td>999.0</td><td>17.4</td><td>0.7</td><td>0.7</td><td>999.0</td><td>999.0</td><td>999.0</td><td>999.0</td><td>999.0</td><td>999.0</td><td>28.55</td><td>1.2</td><td>1.2</td><td>1.9</td><td>1.0</td><td>0.5</td><td>999.0</td><td>999.0</td><td>999.0</td><td>999.0</td><td>999.0</td><td>999.0</td><td>999.0</td><td>999.0</td><td>999.0</td><td>999.0</td><td>999.0</td><td>999.0</td><td>999.0</td><td>-1.28</td><td>0.07</td><td>0.07</td><td>5</td><td>2.84</td><td>0.05</td><td>0.07</td><td>0.46</td><td>0.06</td><td>0.07</td><td>(232)(260)(266)(267)</td></tr>\n",
       "</table></div>"
      ],
      "text/plain": [
       "<Table length=3>\n",
       "   GalaxyName    ...                       References                     \n",
       "    bytes16      ...                        bytes53                       \n",
       "---------------- ... -----------------------------------------------------\n",
       "*Bootes3         ... (14)(15)(99)                                         \n",
       "*CanisMajor      ... (1)(2)(95)(176)                                      \n",
       "*Cetus2          ... (232)(260)(266)(267)                                 "
      ]
     },
     "execution_count": 3,
     "metadata": {},
     "output_type": "execute_result"
    }
   ],
   "source": [
    "# read the McConnachie data file\n",
    "from astropy.io import fits\n",
    "from astropy import units as u\n",
    "from astropy.table import Table\n",
    "\n",
    "fits_data_filename = \"data/NearbyGalaxies_Jan2021_PUBLIC.fits\"\n",
    "with fits.open(fits_data_filename) as hdul:\n",
    "    hdul.info()\n",
    "    \n",
    "data = Table.read(fits_data_filename)\n",
    "# print(data.meta)\n",
    "\n",
    "# make a copy to keep track off\n",
    "data3 = data.copy()\n",
    "\n",
    "data[:3]"
   ]
  },
  {
   "cell_type": "markdown",
   "metadata": {},
   "source": [
    "### Now read the data from the Gaia DR2. This is in a txt file."
   ]
  },
  {
   "cell_type": "code",
   "execution_count": 4,
   "metadata": {},
   "outputs": [],
   "source": [
    "data2_pm = np.loadtxt( \"data/MW_sats_McConnachie_2020_Gaia_DR2.txt\", usecols=[8,9,10,11] )[:11]\n",
    "data2_satName = np.loadtxt( \"data/MW_sats_McConnachie_2020_Gaia_DR2.txt\", usecols=[2] )[:11]"
   ]
  },
  {
   "cell_type": "markdown",
   "metadata": {},
   "source": [
    "### Copy the proper motions for Sag, LMC, and SMC"
   ]
  },
  {
   "cell_type": "code",
   "execution_count": 10,
   "metadata": {},
   "outputs": [
    {
     "name": "stdout",
     "output_type": "stream",
     "text": [
      "Found 3 satellites out of 3 searched for.\n",
      "\t Found all: True\n",
      "Updated proper motion data:\n"
     ]
    },
    {
     "data": {
      "text/html": [
       "<div><i>Table length=3</i>\n",
       "<table id=\"table4758559568\" class=\"table-striped table-bordered table-condensed\">\n",
       "<thead><tr><th>GalaxyName</th><th>pmra</th><th>epmra+</th><th>epmra-</th><th>pmdec</th><th>epmdec+</th><th>epmdec-</th></tr></thead>\n",
       "<thead><tr><th>bytes16</th><th>float32</th><th>float32</th><th>float32</th><th>float32</th><th>float32</th><th>float32</th></tr></thead>\n",
       "<tr><td>LMC</td><td>-2.692</td><td>0.001</td><td>0.001</td><td>-1.359</td><td>0.001</td><td>0.001</td></tr>\n",
       "<tr><td>SMC</td><td>1.85</td><td>0.03</td><td>0.03</td><td>0.234</td><td>0.03</td><td>0.03</td></tr>\n",
       "<tr><td>SagittariusdSph</td><td>0.797</td><td>0.03</td><td>0.03</td><td>-1.22</td><td>0.03</td><td>0.03</td></tr>\n",
       "</table></div>"
      ],
      "text/plain": [
       "<Table length=3>\n",
       "   GalaxyName      pmra   epmra+  epmra-  pmdec  epmdec+ epmdec-\n",
       "    bytes16      float32 float32 float32 float32 float32 float32\n",
       "---------------- ------- ------- ------- ------- ------- -------\n",
       "LMC               -2.692   0.001   0.001  -1.359   0.001   0.001\n",
       "SMC                 1.85    0.03    0.03   0.234    0.03    0.03\n",
       "SagittariusdSph    0.797    0.03    0.03   -1.22    0.03    0.03"
      ]
     },
     "execution_count": 10,
     "metadata": {},
     "output_type": "execute_result"
    }
   ],
   "source": [
    "# Find the satellites in question: Sag, LMC and SMC in the table\n",
    "target_sats = [ 'SagittariusdSph', 'LMC', 'SMC']\n",
    "numSats_total = len(data['GalaxyName'])\n",
    "numSats = len(target_sats)\n",
    "\n",
    "sel_target = np.array( [ data['GalaxyName'][i].strip() in target_sats for i in range(numSats_total) ] )\n",
    "print( \"Found {0} satellites out of {1} searched for.\\n\\t Found all: {2}\".format( sel_target.sum(), numSats, sel_target.sum()==numSats) )\n",
    "\n",
    "# copy the proper motion data\n",
    "reorder = (data['dmod'][sel_target]).argsort() # order the sats using the distance modulus\n",
    "index = np.arange( numSats_total )[sel_target]\n",
    "\n",
    "data['pmra'][index[:3]] = data2_pm[:3,0]\n",
    "data['epmra+'][index[:3]] = data2_pm[:3,1]\n",
    "data['epmra-'][index[:3]] = data2_pm[:3,1]\n",
    "\n",
    "data['pmdec'][index[:3]] = data2_pm[:3,2]\n",
    "data['epmdec+'][index[:3]] = data2_pm[:3,3]\n",
    "data['epmdec-'][index[:3]] = data2_pm[:3,3]\n",
    "\n",
    "print( \"Updated proper motion data:\" )\n",
    "data[['GalaxyName','pmra','epmra+','epmra-','pmdec','epmdec+','epmdec-']][sel_target]"
   ]
  },
  {
   "cell_type": "markdown",
   "metadata": {},
   "source": [
    "# Identify satellites within 300 kpc from the Galactic Centre  \n",
    "  \n",
    "Valid satellites should be within 300 kpc from the Galactic Centre and have distance, radial velocity and proper motion measurements. We select satellites using the most likely distance modulus."
   ]
  },
  {
   "cell_type": "code",
   "execution_count": 34,
   "metadata": {},
   "outputs": [
    {
     "name": "stdout",
     "output_type": "stream",
     "text": [
      "Satellites that passed the distance selection criterion:  62\n",
      "       and radial velocity criterion:  51\n",
      "       and proper motion criterion:  48\n"
     ]
    },
    {
     "data": {
      "text/html": [
       "<div><i>Table length=48</i>\n",
       "<table id=\"table4823644112\" class=\"table-striped table-bordered table-condensed\">\n",
       "<thead><tr><th>GalaxyName</th><th>dmod</th><th>vh</th><th>pmra</th><th>pmdec</th></tr></thead>\n",
       "<thead><tr><th>bytes16</th><th>float32</th><th>float32</th><th>float32</th><th>float32</th></tr></thead>\n",
       "<tr><td>*Columba1</td><td>21.3</td><td>153.7</td><td>0.19</td><td>-0.36</td></tr>\n",
       "<tr><td>*Draco2</td><td>16.67</td><td>-342.5</td><td>1.08</td><td>0.91</td></tr>\n",
       "<tr><td>*Grus1</td><td>20.4</td><td>-140.5</td><td>0.07</td><td>-0.29</td></tr>\n",
       "<tr><td>*Grus2</td><td>18.62</td><td>-110.0</td><td>0.38</td><td>-1.46</td></tr>\n",
       "<tr><td>*Horologium1</td><td>19.5</td><td>112.8</td><td>0.82</td><td>-0.61</td></tr>\n",
       "<tr><td>*Horologium2</td><td>19.46</td><td>168.7</td><td>0.76</td><td>-0.41</td></tr>\n",
       "<tr><td>*Pegasus3</td><td>21.56</td><td>-222.9</td><td>0.06</td><td>-0.2</td></tr>\n",
       "<tr><td>*Phoenix2</td><td>19.6</td><td>32.4</td><td>0.48</td><td>-1.17</td></tr>\n",
       "<tr><td>*Reticulum2</td><td>17.4</td><td>64.7</td><td>2.39</td><td>-1.36</td></tr>\n",
       "<tr><td>*Reticulum3</td><td>19.81</td><td>274.2</td><td>0.36</td><td>0.05</td></tr>\n",
       "<tr><td>...</td><td>...</td><td>...</td><td>...</td><td>...</td></tr>\n",
       "<tr><td>SagittariusdSph</td><td>17.1</td><td>140.0</td><td>0.797</td><td>-1.22</td></tr>\n",
       "<tr><td>Sculptor</td><td>19.67</td><td>111.4</td><td>0.099</td><td>-0.16</td></tr>\n",
       "<tr><td>Segue(1)</td><td>16.8</td><td>208.5</td><td>-2.21</td><td>-3.34</td></tr>\n",
       "<tr><td>Segue2</td><td>17.7</td><td>-39.2</td><td>1.47</td><td>-0.31</td></tr>\n",
       "<tr><td>Sextans(1)</td><td>19.67</td><td>224.2</td><td>-0.41</td><td>0.04</td></tr>\n",
       "<tr><td>Tucana2</td><td>18.8</td><td>-129.1</td><td>0.9</td><td>-1.26</td></tr>\n",
       "<tr><td>UrsaMajor(1)</td><td>19.93</td><td>-55.3</td><td>-0.39</td><td>-0.63</td></tr>\n",
       "<tr><td>UrsaMajor2</td><td>17.5</td><td>-116.5</td><td>1.72</td><td>-1.89</td></tr>\n",
       "<tr><td>UrsaMinor</td><td>19.4</td><td>-246.9</td><td>-0.124</td><td>0.078</td></tr>\n",
       "<tr><td>Willman1</td><td>17.9</td><td>-12.3</td><td>0.21</td><td>-1.08</td></tr>\n",
       "</table></div>"
      ],
      "text/plain": [
       "<Table length=48>\n",
       "   GalaxyName      dmod     vh     pmra   pmdec \n",
       "    bytes16      float32 float32 float32 float32\n",
       "---------------- ------- ------- ------- -------\n",
       "*Columba1           21.3   153.7    0.19   -0.36\n",
       "*Draco2            16.67  -342.5    1.08    0.91\n",
       "*Grus1              20.4  -140.5    0.07   -0.29\n",
       "*Grus2             18.62  -110.0    0.38   -1.46\n",
       "*Horologium1        19.5   112.8    0.82   -0.61\n",
       "*Horologium2       19.46   168.7    0.76   -0.41\n",
       "*Pegasus3          21.56  -222.9    0.06    -0.2\n",
       "*Phoenix2           19.6    32.4    0.48   -1.17\n",
       "*Reticulum2         17.4    64.7    2.39   -1.36\n",
       "*Reticulum3        19.81   274.2    0.36    0.05\n",
       "             ...     ...     ...     ...     ...\n",
       "SagittariusdSph     17.1   140.0   0.797   -1.22\n",
       "Sculptor           19.67   111.4   0.099   -0.16\n",
       "Segue(1)            16.8   208.5   -2.21   -3.34\n",
       "Segue2              17.7   -39.2    1.47   -0.31\n",
       "Sextans(1)         19.67   224.2   -0.41    0.04\n",
       "Tucana2             18.8  -129.1     0.9   -1.26\n",
       "UrsaMajor(1)       19.93   -55.3   -0.39   -0.63\n",
       "UrsaMajor2          17.5  -116.5    1.72   -1.89\n",
       "UrsaMinor           19.4  -246.9  -0.124   0.078\n",
       "Willman1            17.9   -12.3    0.21   -1.08"
      ]
     },
     "execution_count": 34,
     "metadata": {},
     "output_type": "execute_result"
    }
   ],
   "source": [
    "import astropy.coordinates as coord\n",
    "\n",
    "# define the selection criteria\n",
    "dist_max = 300 * u.kpc\n",
    "dmod_max = coord.Distance( value=dist_max ).distmod  # transform to distance modulus\n",
    "vrad_max = 900. * u.km / u.s # larger values indicate a missing meaurement \n",
    "\n",
    "# select by distance\n",
    "sel_distance = data['dmod'] <= dmod_max.value\n",
    "print( \"Satellites that passed the distance selection criterion: \", sel_distance.sum() )\n",
    "\n",
    "# select by radial velocity\n",
    "sel_vrad = sel_distance * (data['vh'] <= vrad_max.value)\n",
    "print( \"       and radial velocity criterion: \", sel_vrad.sum() )\n",
    "\n",
    "# select by proper motions\n",
    "sel_pm  = np.array( [ np.isscalar(data['pmra'][i]) & np.isscalar(data['pmdec'][i]) for i in range(numSats_total) ] )\n",
    "sel_valid = sel_vrad * sel_pm\n",
    "print( \"       and proper motion criterion: \", sel_valid.sum() )\n",
    "\n",
    "data[['GalaxyName','dmod','vh','pmra','pmdec',]][sel_valid]\n"
   ]
  },
  {
   "cell_type": "markdown",
   "metadata": {},
   "source": [
    "# Transform from Solar to Galactocentric coordinates  \n",
    "  \n",
    "https://docs.astropy.org/en/stable/api/astropy.coordinates.Galactocentric.html#astropy.coordinates.Galactocentric  \n",
    "\n",
    "To account for errors, generate many Monte Carlo samples in observed space taking into account the measurement errors in observed satellite positions and also in the position and velocity of the Sun. The Solar reference frame values are taken from:  \n",
    "- Sun's position in the disc plane $R_\\odot= (8.178 \\pm 0.022) ~\\rm{kpc}$ from [Gravity Collaboration et al (2019)](https://ui.adsabs.harvard.edu/abs/2019A%26A...625L..10G/abstract)  \n",
    "- Sun's vertical position (i.e. from disc plane) $z=(0.020\\pm0.005) ~\\rm{kpc}$ from [Joshi (2007)](https://ui.adsabs.harvard.edu/abs/2007MNRAS.378..768J/exportcitation)  \n",
    "- circular velocity at the Sun's position $V_{\\rm circ} = (234.7\\pm1.7)~\\rm{km/s}$ from [Nitschai et al (2021)](https://ui.adsabs.harvard.edu/abs/2021ApJ...916..112N/abstract)  \n",
    "- Sun's motion with respect to the LSR (local standard of rest) $(U,V,W)=(11.10 \\pm 0.72, 12.24\\pm0.47, 7.25\\pm0.37)~\\rm{km/s}$ from [Schonrich, Binney and Dehnen (2010)](https://ui.adsabs.harvard.edu/abs/2010MNRAS.403.1829S/abstract)\n"
   ]
  },
  {
   "cell_type": "markdown",
   "metadata": {},
   "source": [
    "### Function for doing the transformation using *astropy*"
   ]
  },
  {
   "cell_type": "code",
   "execution_count": 36,
   "metadata": {},
   "outputs": [],
   "source": [
    "# transform to Galactocentric coordinates\n",
    "import astropy.coordinates as coord\n",
    "\n",
    "def satellite_phase_space_wrt_GC( ra, dec, dist, rad_vel, pmra, pmdec, Sun_R, Sun_z, Sun_vel ):\n",
    "    gc_frame = coord.Galactocentric( galcen_distance=Sun_R*u.kpc, galcen_v_sun=Sun_vel*u.km/u.s, z_sun=Sun_z*u.kpc)\n",
    "    \n",
    "    coord_Sun = coord.SkyCoord( ra=ra, dec=dec, unit=(u.hourangle, u.deg), frame='icrs',\n",
    "                        distance=dist*u.kpc, \n",
    "                        pm_ra_cosdec=pmra*u.mas/u.yr,\n",
    "                        pm_dec=pmdec*u.mas/u.yr,\n",
    "                        radial_velocity=rad_vel*u.km/u.s )\n",
    "    coord_GC = coord_Sun.transform_to(gc_frame)\n",
    "    return coord_GC\n"
   ]
  },
  {
   "cell_type": "markdown",
   "metadata": {},
   "source": [
    "### The measurements and their errors"
   ]
  },
  {
   "cell_type": "code",
   "execution_count": 33,
   "metadata": {},
   "outputs": [],
   "source": [
    "sun_vCirc = np.array( [234.7, 1.7] )   # Vcirc at Sun's position: value + error from Nitschai + 2021 -- https://ui.adsabs.harvard.edu/abs/2021ApJ...916..112N/abstract\n",
    "sun_R = np.array( [8.178, 0.022] )  # in-plane distance of the Sun from GC: value + error from Gravity Collaboration + 2019 -- https://ui.adsabs.harvard.edu/abs/2019A%26A...625L..10G/abstract\n",
    "sun_LSR   = np.array( [ [11.10, 0.72], [12.24,0.47], [7.25,0.37] ]  )  # (U,V,W) vel. of sun w.r.t. local standard of rest - Schonrich, Binney and Dehnen 2010 -- https://ui.adsabs.harvard.edu/abs/2010MNRAS.403.1829S/abstract\n",
    "sun_z = np.array( [0.020,0.01])   # Sun's z displacement Joshi (2007) -- https://ui.adsabs.harvard.edu/abs/2007MNRAS.378..768J/exportcitation"
   ]
  },
  {
   "cell_type": "markdown",
   "metadata": {},
   "source": [
    "### First transform the most likely (ML) measurements to sort the satellites from closest to farthest from the GC"
   ]
  },
  {
   "cell_type": "code",
   "execution_count": 38,
   "metadata": {},
   "outputs": [
    {
     "name": "stdout",
     "output_type": "stream",
     "text": [
      "The most likely distance of the satellites from the Galactic Centre [kpc]:\n",
      " [ 18.53525784  23.24190385  23.86991506  25.67585236  27.80758119\n",
      "  28.97436221  31.61511777  36.46303968  37.05714199  37.82876922\n",
      "  39.50173714  40.65990978  42.7721595   44.83058174  45.5181823\n",
      "  48.4209829   49.99275326  52.07513176  53.7577618   61.26869187\n",
      "  63.98948074  66.10985892  75.87278278  77.7729385   79.03238974\n",
      "  79.73888121  80.20551663  85.99698782  88.93724456  91.60032434\n",
      " 101.51526314 105.11257784 106.8018824  116.41242652 116.43536033\n",
      " 126.22327731 131.44799103 132.78946189 149.27548209 154.74458046\n",
      " 160.57914828 181.94853044 186.54232463 196.6577967  203.17046842\n",
      " 217.53369461 235.89375596 257.33570267]\n"
     ]
    }
   ],
   "source": [
    "sat_dist= coord.Distance( distmod=data['dmod'][sel_valid], unit=u.kpc).value\n",
    "sun_vel = [sun_LSR[0,0], sun_vCirc[0]+sun_LSR[1,0], sun_LSR[2,0]]\n",
    "\n",
    "coords = satellite_phase_space_wrt_GC( ra=data['RA'][sel_valid], dec=data['Dec'][sel_valid], \\\n",
    "                                          dist=sat_dist, rad_vel=data['vh'][sel_valid], \\\n",
    "                                          pmra=data['pmra'][sel_valid], pmdec =data['pmdec'][sel_valid], \\\n",
    "                                          Sun_R=sun_R[0], Sun_z=sun_z[0], Sun_vel=sun_vel )\n",
    "\n",
    "# sort satellites in order of distance from GC\n",
    "pos_GC_ML = np.column_stack( (coords.x.value, coords.y.value, coords.z.value) )   # most likely value\n",
    "vel_GC_ML = np.column_stack( (coords.v_x.value, coords.v_y.value, coords.v_z.value) )   # most likely value\n",
    "dis_GC_ML = np.sqrt( (pos_GC_ML**2).sum(axis=1) )\n",
    "order = dis_GC_ML.argsort()\n",
    "\n",
    "sat_names = np.array( [name.strip() for name in data['GalaxyName'][sel_valid]] )[order]\n",
    "pos_GC_ML = pos_GC_ML[order]\n",
    "vel_GC_ML = vel_GC_ML[order]\n",
    "dis_GC_ML = dis_GC_ML[order]\n",
    "\n",
    "print( \"The most likely distance of the satellites from the Galactic Centre [kpc]:\\n\", dis_GC_ML )"
   ]
  },
  {
   "cell_type": "markdown",
   "metadata": {},
   "source": [
    "### Code for generating the Monte Carlo samples"
   ]
  },
  {
   "cell_type": "code",
   "execution_count": 40,
   "metadata": {},
   "outputs": [],
   "source": [
    "# loop over the number of MC realizations and for each one obtain a set of positions and velocities w.r.t. the Galactic Centre\n",
    "number_MC = 1000  # number of Monte Carlo realizations\n",
    "numSats = sel_valid.sum()\n",
    "\n",
    "# arrays for storing the final satellite positions and velocities in GC reference frame\n",
    "pos_GC = np.empty( (number_MC,numSats,3), np.float64 )\n",
    "vel_GC = np.empty( (number_MC,numSats,3), np.float64 )\n",
    "\n",
    "\n",
    "# generate MC samples for the satellite observables\n",
    "sat_dist = np.empty( (number_MC,numSats), np.float64 )\n",
    "sat_radV = np.empty( (number_MC,numSats), np.float64 )\n",
    "sat_pmra = np.empty( (number_MC,numSats), np.float64 )\n",
    "sat_pmdec= np.empty( (number_MC,numSats), np.float64 )\n",
    "sat_index= np.arange(numSats_total)[sel_valid]\n",
    "for i in range(numSats):\n",
    "    index = sat_index[i]\n",
    "    \n",
    "    edmod = 0.5 * (data['dmod+'][index] + data['dmod-'][index])\n",
    "    dist_mod = np.random.normal( loc=data['dmod'][index], scale=edmod, size=number_MC )\n",
    "    sat_dist[:,i] = coord.Distance( distmod=dist_mod, unit=u.kpc).value\n",
    "    \n",
    "    evh = 0.5 * (data['vh+'][index] + data['vh-'][index])\n",
    "    sat_radV[:,i] = np.random.normal( loc=data['vh'][index], scale=evh, size=number_MC )\n",
    "    \n",
    "    epmra = 0.5 * (data['epmra+'][index] + data['epmra-'][index])\n",
    "    sat_pmra[:,i] = np.random.normal( loc=data['pmra'][index], scale=epmra, size=number_MC )\n",
    "    \n",
    "    epmdec = 0.5 * (data['epmdec+'][index] + data['epmdec-'][index])\n",
    "    sat_pmdec[:,i] = np.random.normal( loc=data['pmdec'][index], scale=epmdec, size=number_MC )\n",
    "\n",
    "\n",
    "# generate MC samples for the Sun's position and velocity\n",
    "Sun_R = np.random.normal( loc=sun_R[0], scale=sun_R[1], size=number_MC )\n",
    "Sun_z = np.random.normal( loc=sun_z[0], scale=sun_z[1], size=number_MC )\n",
    "Sun_U = np.random.normal( loc=sun_LSR[0,0], scale=sun_LSR[0,1], size=number_MC )\n",
    "Sun_V = np.random.normal( loc=sun_LSR[1,0], scale=sun_LSR[1,1], size=number_MC ) + np.random.normal( loc=sun_vCirc[0], scale=sun_vCirc[1], size=number_MC )\n",
    "Sun_W = np.random.normal( loc=sun_LSR[2,0], scale=sun_LSR[2,1], size=number_MC )\n",
    "Sun_vel = np.column_stack( (Sun_U,Sun_V,Sun_W) )\n",
    "\n",
    "\n",
    "# transform from solar to galactic coordinates\n",
    "for i in range(number_MC):\n",
    "    coords = satellite_phase_space_wrt_GC( ra=data['RA'][sel_valid], dec=data['Dec'][sel_valid], \\\n",
    "                                          dist=sat_dist[i], rad_vel=sat_radV[i], \\\n",
    "                                          pmra=sat_pmra[i], pmdec =sat_pmdec[i], \\\n",
    "                                          Sun_R=Sun_R[i], Sun_z=Sun_z[i], Sun_vel=Sun_vel[i] )\n",
    "    pos_GC[i,] = np.column_stack( (coords.x.value, coords.y.value, coords.z.value) )[order]\n",
    "    vel_GC[i,] = np.column_stack( (coords.v_x.value, coords.v_y.value, coords.v_z.value) )[order]\n",
    "    "
   ]
  },
  {
   "cell_type": "markdown",
   "metadata": {},
   "source": [
    "### Save the MC samples"
   ]
  },
  {
   "cell_type": "code",
   "execution_count": 41,
   "metadata": {},
   "outputs": [],
   "source": [
    "# output the satellite data to an hdf5 file\n",
    "outfile = \"data_output/MW_sats_MC_samples.npz\"\n",
    "np.savez( outfile, satellite_names=sat_names, positions_GC=pos_GC, velocities_GC=vel_GC, \\\n",
    "         positions_GC_ML=pos_GC_ML, velocities_GC_ML=vel_GC_ML, distances_GC_ML=dis_GC_ML )\n",
    "\n",
    "import h5py\n",
    "outfile = \"data_output/MW_sats_MC_samples.hdf5\"\n",
    "with h5py.File( outfile, 'w' ) as hf:\n",
    "    hf.create_dataset( 'satellite_names'  , data=np.array(sat_names,dtype='S') )\n",
    "    \n",
    "    # write the data of hosts with LMC\n",
    "    g1 = hf.create_group( \"Monte_Carlo_realizations\" )\n",
    "    g1.create_dataset( 'MC_pos'  , data=pos_GC, dtype='f8' )\n",
    "    g1.create_dataset( 'MC_vel'  , data=vel_GC, dtype='f8' )\n",
    "    \n",
    "    g1 = hf.create_group( \"most_likely_values\" )\n",
    "    g1.create_dataset( 'pos'  , data=pos_GC_ML, dtype='f8' )\n",
    "    g1.create_dataset( 'vel'  , data=vel_GC_ML, dtype='f8' )\n",
    "    g1.create_dataset( 'dis'  , data=dis_GC_ML, dtype='f8' )\n",
    "    \n",
    "    # write the data of satellites around the desired hosts\n",
    "    g2 = hf.create_group( \"Observable_data\" )\n",
    "    g2.create_dataset( 'sat_dist'  , data=sat_dist, dtype='f4' )\n",
    "    g2.create_dataset( 'sat_radV'  , data=sat_radV, dtype='f4' )\n",
    "    g2.create_dataset( 'sat_pmra'  , data=sat_pmra, dtype='f4' )\n",
    "    g2.create_dataset( 'sat_pmdec' , data=sat_pmdec, dtype='f4' )\n",
    "    g2.create_dataset( 'Sun_R'   , data=Sun_R, dtype='f4' )\n",
    "    g2.create_dataset( 'Sun_z'   , data=Sun_z, dtype='f4' )\n",
    "    g2.create_dataset( 'Sun_vel' , data=Sun_vel, dtype='f4' )\n",
    "    \n",
    "    grp = hf.create_group( \"metadata\" )\n",
    "    grp.attrs[\"units\"]     = np.string_( \"Positions: kpc;  Velocities: km/s\" )\n",
    "    grp.attrs[\"num_Monte_Carlos\"] = pos_GC.shape[0]\n",
    "    grp.attrs[\"num_satellites\"]   = pos_GC.shape[1]\n",
    "    grp.attrs[\"program_options\"]  = \"Obtained using the 'MW_satellites_errors.ipynb' jupyter notebook\""
   ]
  },
  {
   "cell_type": "markdown",
   "metadata": {},
   "source": [
    "### A quick check of the position and velocity percentage error"
   ]
  },
  {
   "cell_type": "code",
   "execution_count": 42,
   "metadata": {},
   "outputs": [
    {
     "name": "stdout",
     "output_type": "stream",
     "text": [
      "Uncertainties in the coordinates and velocities of the satellites (in percentage):\n",
      "                  x     y     z     v_x   v_y   v_z\n",
      "SagittariusdSph   9.68  0.94  2.48  1.16  3.20  4.24  \n",
      "       *Tucana3   3.22  3.19  6.78  2.11  4.95  3.37  \n",
      "        *Draco2   0.25  1.50  1.41  2.37  1.68  1.76  \n",
      "        Hydrus1   0.72  1.36  1.14  1.03  1.87  1.58  \n",
      "       Segue(1)   3.75  3.22  6.00  3.04  13.39  8.58  \n",
      "        Carina3   0.09  4.24  1.29  2.09  1.83  5.34  \n",
      "    *Reticulum2   0.41  5.87  6.95  1.27  12.37  10.38  \n",
      "   *Triangulum2   2.82  2.28  1.59  1.97  2.45  2.74  \n",
      "        Carina2   0.07  2.14  0.66  1.17  0.84  1.96  \n",
      "     UrsaMajor2   7.87  4.11  6.83  3.90  14.33  12.90  \n",
      "        Bootes2   1.04  0.11  2.68  4.86  5.00  2.32  \n",
      "         Segue2   2.68  1.58  2.43  6.12  7.55  4.04  \n",
      "       Willman1   8.69  3.42  14.33  11.31  29.06  12.74  \n",
      "  ComaBerenices   0.46  0.87  8.81  8.54  8.85  0.60  \n",
      "       *Tucana4   3.64  3.87  7.69  6.18  16.30  8.57  \n",
      "         *Grus2   6.39  1.00  8.31  4.10  19.99  2.50  \n",
      "            LMC   0.64  3.46  2.28  1.81  1.90  2.35  \n",
      "       *Tucana5   7.54  7.22  13.35  8.71  17.44  13.10  \n",
      "        Tucana2   5.11  3.19  7.83  5.95  12.12  1.89  \n",
      "            SMC   2.26  3.51  4.08  6.30  3.63  1.56  \n",
      "      Bootes(1)   1.35  0.04  3.59  2.70  7.00  1.57  \n",
      "  *Sagittarius2   1.08  0.37  0.49  2.14  3.18  3.58  \n",
      "          Draco   0.42  6.36  4.42  3.62  1.17  0.95  \n",
      "      UrsaMinor   0.82  3.07  3.16  1.59  1.38  0.67  \n",
      "   *Horologium2   0.71  5.20  7.26  68.43  58.70  44.16  \n",
      "   *Horologium1   0.16  5.42  7.67  5.99  16.35  11.60  \n",
      "      *Phoenix2   3.87  2.86  8.30  5.60  17.70  6.16  \n",
      "       Sculptor   0.24  0.71  6.18  0.58  2.80  0.37  \n",
      "     Sextans(1)   1.52  3.06  3.11  3.40  1.59  2.24  \n",
      "    *Reticulum3   0.66  10.09  10.34  74.10  41.14  41.56  \n",
      "   UrsaMajor(1)   2.48  0.93  3.71  10.96  17.12  6.77  \n",
      "      Aquarius2   1.11  1.59  2.58  28.76  22.36  17.96  \n",
      "         Carina   0.95  5.39  2.23  2.72  3.61  8.46  \n",
      "        Crater2   0.18  0.68  0.63  7.61  4.44  3.56  \n",
      "         *Grus1   4.71  1.85  8.22  12.55  19.62  8.59  \n",
      "       Hercules   6.76  3.70  5.76  9.18  12.35  9.75  \n",
      "         Hydra2   2.76  5.73  3.73  39.17  26.32  31.17  \n",
      "        Antlia2   0.43  4.88  0.97  5.77  1.70  4.52  \n",
      "         Fornax   1.83  2.80  7.36  1.32  19.66  7.24  \n",
      "           Leo4   0.20  2.24  3.40  109.39  88.58  59.19  \n",
      " CanesVenatici2   0.19  0.34  2.87  52.41  48.53  6.10  \n",
      "        Pisces2   1.02  5.37  5.88  129.05  97.15  86.20  \n",
      "      *Columba1   5.37  6.76  4.74  24.76  22.34  23.47  \n",
      "           Leo5   0.52  3.63  5.99  94.97  82.12  50.43  \n",
      "      *Pegasus3   2.30  6.30  6.01  157.30  120.85  124.91  \n",
      "CanesVenatici(1)   0.27  0.83  4.80  17.97  20.82  3.81  \n",
      "           Leo2   1.77  1.50  5.55  20.39  22.78  8.93  \n",
      "           Leo1   2.73  2.83  4.55  5.82  6.97  4.85  \n"
     ]
    }
   ],
   "source": [
    "velM_ML = (vel_GC_ML**2).sum(axis=1)**0.5\n",
    "\n",
    "out = np.column_stack( (pos_GC.std(axis=0)/dis_GC_ML[:,None], vel_GC.std(axis=0)/velM_ML[:,None]) ) * 100.\n",
    "\n",
    "print(\"Uncertainties in the coordinates and velocities of the satellites (in percentage):\")\n",
    "print(\"                  x     y     z     v_x   v_y   v_z\")\n",
    "for i in range( len(sat_names) ):\n",
    "    print( \"%15s   \" % sat_names[i], end=\"\" )\n",
    "    for j in range(6):\n",
    "        print(\"%.2f  \" % out[i,j], end=\"\")\n",
    "    print()\n",
    "# print( np.column_stack( (sat_names, pos_GC.std(axis=0)/dis_GC_ML[:,None], vel_GC.std(axis=0)/velM_ML[:,None]) ) )\n"
   ]
  },
  {
   "cell_type": "markdown",
   "metadata": {},
   "source": [
    "# Generate only the 68 percentile MC samples  \n",
    "  \n",
    "Do so by generating MC samples for each satellite and keeping only the 68% with the highest likelihood for each satellite."
   ]
  },
  {
   "cell_type": "code",
   "execution_count": 151,
   "metadata": {},
   "outputs": [
    {
     "data": {
      "text/plain": [
       "(array([8.1667253 , 8.17881634, 8.18006186, 8.14363859, 8.16244625,\n",
       "        8.16271786, 8.19193653, 8.17399763, 8.18411458, 8.19750135]),\n",
       " array([0.02781304, 0.0240489 , 0.0229561 , 0.01262945, 0.02470571,\n",
       "        0.01242147, 0.01314364, 0.02039701, 0.01321091, 0.02530495]),\n",
       " array([[ 11.63646166, 244.52941432,   7.5069091 ],\n",
       "        [ 11.19297362, 246.19500036,   7.48087737],\n",
       "        [ 11.28344146, 246.2239645 ,   6.86115774],\n",
       "        [ 11.60690759, 248.33495732,   7.16981539],\n",
       "        [ 12.41502673, 248.41146003,   7.1732111 ],\n",
       "        [ 11.02333872, 248.38471721,   7.41756535],\n",
       "        [ 10.95210486, 245.08689365,   7.34562999],\n",
       "        [ 10.29761859, 248.70344851,   7.16713902],\n",
       "        [ 10.81020644, 245.15546113,   7.33105443],\n",
       "        [ 10.7565499 , 246.10269224,   7.81158857]]))"
      ]
     },
     "execution_count": 151,
     "metadata": {},
     "output_type": "execute_result"
    }
   ],
   "source": [
    "# function to generate MC and calculate the likelihood for each variable\n",
    "def MC_samples_and_loglikelihood(N,mean,sigma):\n",
    "    _samples = np.random.normal( loc=mean, scale=sigma, size=N )\n",
    "    _loglikelihood = -0.5 * (_samples-mean)**2 / sigma**2\n",
    "    return _samples, _loglikelihood\n",
    "\n",
    "\n",
    "# function to generate the required percentile MC samples\n",
    "def generate_MC_percentiles_satellites(percentile,N,index):\n",
    "    N2 = int(N / (percentile/100)) # to obtain N samples that correspond to the 'percentile' percentage of the distribution we need to generate 'N2' samples\n",
    "    \n",
    "    _edmod = 0.5 * (data['dmod+'][index] + data['dmod-'][index])\n",
    "    _dist_mod, _logL_dist = MC_samples_and_loglikelihood( N2, data['dmod'][index], _edmod )\n",
    "    _sat_dist = coord.Distance( distmod=_dist_mod, unit=u.kpc).value\n",
    "    \n",
    "    _evh = 0.5 * (data['vh+'][index] + data['vh-'][index])\n",
    "    _sat_radV, _logL_radV = MC_samples_and_loglikelihood( N2, data['vh'][index], _evh )\n",
    "    \n",
    "    _epmra = 0.5 * (data['epmra+'][index] + data['epmra-'][index])\n",
    "    _sat_pmra, _logL_pmra = MC_samples_and_loglikelihood( N2, data['pmra'][index], _epmra )\n",
    "    \n",
    "    _epmdec = 0.5 * (data['epmdec+'][index] + data['epmdec-'][index])\n",
    "    _sat_pmdec, _logL_pmdec = MC_samples_and_loglikelihood( N2, data['pmdec'][index], _epmdec )\n",
    "    \n",
    "    # calculate the total log likelihood and select the N highest\n",
    "    _logL = _logL_dist + _logL_radV + _logL_pmra + _logL_pmdec\n",
    "    _order = _logL.argsort()[::-1][:N]\n",
    "    _sel = np.zeros( N2, bool )\n",
    "    _sel[_order] = True\n",
    "    \n",
    "    return _sat_dist[_sel], _sat_radV[_sel], _sat_pmra[_sel], _sat_pmdec[_sel]\n",
    "\n",
    "\n",
    "def generate_MC_percentiles_Sun(percentile,N):\n",
    "    N2 = int(N / (percentile/100)) # to obtain N samples that correspond to the 'percentile' percentage of the distribution we need to generate 'N2' samples\n",
    "    \n",
    "    _Sun_R, _logL_R = MC_samples_and_loglikelihood( N2, sun_R[0], sun_R[1] )\n",
    "    _Sun_z, _logL_z = MC_samples_and_loglikelihood( N2, sun_z[0], sun_z[1] )\n",
    "    _Sun_Vc, _logL_Vc = MC_samples_and_loglikelihood( N2, sun_vCirc[0], sun_vCirc[1] )\n",
    "    _Sun_U, _logL_U = MC_samples_and_loglikelihood( N2, sun_LSR[0,0], sun_LSR[0,1] )\n",
    "    _Sun_V, _logL_V = MC_samples_and_loglikelihood( N2, sun_LSR[1,0], sun_LSR[1,1] ) \n",
    "    _Sun_W, _logL_W = MC_samples_and_loglikelihood( N2, sun_LSR[2,0], sun_LSR[2,1] )\n",
    "    _Sun_vel = np.column_stack( (_Sun_U,_Sun_V+_Sun_Vc,_Sun_W) )\n",
    "    \n",
    "    # calculate the total log likelihood and select the N highest\n",
    "    _logL = _logL_R + _logL_z + _logL_Vc + _logL_U + _logL_V + _logL_W\n",
    "    _order = _logL.argsort()[::-1][:N]\n",
    "    _sel = np.zeros( N2, bool )\n",
    "    _sel[_order] = True\n",
    "    \n",
    "    return _Sun_R[_sel], _Sun_z[_sel], _Sun_vel[_sel]\n",
    "    \n",
    "# generate_MC_percentiles_satellites(68,10,sat_index[0])\n",
    "generate_MC_percentiles_Sun(68,10)"
   ]
  },
  {
   "cell_type": "markdown",
   "metadata": {},
   "source": [
    "### Now generate the 68 percentile MC samples"
   ]
  },
  {
   "cell_type": "code",
   "execution_count": 155,
   "metadata": {},
   "outputs": [],
   "source": [
    "# loop over the number of MC realizations and for each one obtain a set of positions and velocities w.r.t. the Galactic Centre\n",
    "number_MC = 1000  # number of Monte Carlo realizations\n",
    "target_percetile = 68\n",
    "\n",
    "# arrays for storing the final satellite positions and velocities in GC reference frame\n",
    "pos_GC = np.empty( (number_MC,numSats,3), np.float64 )\n",
    "vel_GC = np.empty( (number_MC,numSats,3), np.float64 )\n",
    "\n",
    "\n",
    "# generate MC samples for the satellite observables\n",
    "sat_dist = np.empty( (number_MC,numSats), np.float64 )\n",
    "sat_radV = np.empty( (number_MC,numSats), np.float64 )\n",
    "sat_pmra = np.empty( (number_MC,numSats), np.float64 )\n",
    "sat_pmdec= np.empty( (number_MC,numSats), np.float64 )\n",
    "sat_index= np.arange(numSats_total)[sel_valid]\n",
    "for i in range(numSats):\n",
    "    sat_dist[:,i], sat_radV[:,i], sat_pmra[:,i], sat_pmdec[:,i] = generate_MC_percentiles_satellites( target_percetile, number_MC, sat_index[i] )\n",
    "\n",
    "# generate MC samples for the Sun's position and velocity\n",
    "Sun_R, Sun_z, Sun_vel = generate_MC_percentiles_Sun( target_percetile, number_MC )\n",
    "\n",
    "\n",
    "# transform from solar to galactic coordinates\n",
    "for i in range(number_MC):\n",
    "    coords = satellite_phase_space_wrt_GC( ra=data['RA'][sel_valid], dec=data['Dec'][sel_valid], \\\n",
    "                                          dist=sat_dist[i], rad_vel=sat_radV[i], \\\n",
    "                                          pmra=sat_pmra[i], pmdec =sat_pmdec[i], \\\n",
    "                                          Sun_R=Sun_R[i], Sun_z=Sun_z[i], Sun_vel=Sun_vel[i] )\n",
    "    pos_GC[i,] = np.column_stack( (coords.x.value, coords.y.value, coords.z.value) )[order]\n",
    "    vel_GC[i,] = np.column_stack( (coords.v_x.value, coords.v_y.value, coords.v_z.value) )[order]"
   ]
  },
  {
   "cell_type": "markdown",
   "metadata": {},
   "source": [
    "### Save the MC samples"
   ]
  },
  {
   "cell_type": "code",
   "execution_count": 156,
   "metadata": {},
   "outputs": [],
   "source": [
    "# output the satellite data to an hdf5 file\n",
    "outfile = \"data_output/MW_sats_MC_samples_68per.npz\"\n",
    "np.savez( outfile, satellite_names=sat_names, positions_GC=pos_GC, velocities_GC=vel_GC, \\\n",
    "         positions_GC_ML=pos_GC_ML, velocities_GC_ML=vel_GC_ML, distances_GC_ML=dis_GC_ML )\n",
    "\n",
    "import h5py\n",
    "outfile = \"data_output/MW_sats_MC_samples_68per.hdf5\"\n",
    "with h5py.File( outfile, 'w' ) as hf:\n",
    "    hf.create_dataset( 'satellite_names'  , data=np.array(sat_names,dtype='S') )\n",
    "    \n",
    "    # write the data of hosts with LMC\n",
    "    g1 = hf.create_group( \"MC_samples\" )\n",
    "    g1.create_dataset( 'pos'  , data=pos_GC, dtype='f8' )\n",
    "    g1.create_dataset( 'vel'  , data=vel_GC, dtype='f8' )\n",
    "    \n",
    "    g1 = hf.create_group( \"most_likely_values\" )\n",
    "    g1.create_dataset( 'pos'  , data=pos_GC_ML, dtype='f8' )\n",
    "    g1.create_dataset( 'vel'  , data=vel_GC_ML, dtype='f8' )\n",
    "    g1.create_dataset( 'dis'  , data=dis_GC_ML, dtype='f8' )\n",
    "    \n",
    "    # write the data of satellites around the desired hosts\n",
    "    g2 = hf.create_group( \"Observable_data\" )\n",
    "    g2.create_dataset( 'sat_dist'  , data=sat_dist, dtype='f4' )\n",
    "    g2.create_dataset( 'sat_radV'  , data=sat_radV, dtype='f4' )\n",
    "    g2.create_dataset( 'sat_pmra'  , data=sat_pmra, dtype='f4' )\n",
    "    g2.create_dataset( 'sat_pmdec' , data=sat_pmdec, dtype='f4' )\n",
    "    g2.create_dataset( 'Sun_R'   , data=Sun_R, dtype='f4' )\n",
    "    g2.create_dataset( 'Sun_z'   , data=Sun_z, dtype='f4' )\n",
    "    g2.create_dataset( 'Sun_vel' , data=Sun_vel, dtype='f4' )\n",
    "    \n",
    "    grp = hf.create_group( \"metadata\" )\n",
    "    grp.attrs[\"units\"]     = np.string_( \"Positions: kpc;  Velocities: km/s\" )\n",
    "    grp.attrs[\"num_Monte_Carlos\"] = pos_GC.shape[0]\n",
    "    grp.attrs[\"num_satellites\"]   = pos_GC.shape[1]\n",
    "    grp.attrs[\"program_options\"]  = \"Obtained using the 'MW_satellites_errors.ipynb' jupyter notebook\""
   ]
  },
  {
   "cell_type": "markdown",
   "metadata": {},
   "source": [
    "### A quick check of the position and velocity percentage error"
   ]
  },
  {
   "cell_type": "code",
   "execution_count": 157,
   "metadata": {},
   "outputs": [
    {
     "name": "stdout",
     "output_type": "stream",
     "text": [
      "Uncertainties in the coordinates and velocities of the satellites (in percentage):\n",
      "                  x     y     z     v_x   v_y   v_z\n",
      "SagittariusdSph   0.39  0.04  0.13  0.51  0.50  0.27  \n",
      "            LMC   0.16  0.80  0.53  0.37  1.13  1.18  \n",
      "            SMC   0.41  0.63  0.73  0.37  1.53  1.07  \n",
      "      UrsaMinor   0.14  0.47  0.48  0.40  0.84  0.19  \n",
      "          Draco   0.06  0.30  0.21  0.37  0.79  0.18  \n",
      "       Sculptor   0.11  0.16  1.36  0.32  0.93  0.18  \n",
      "     Sextans(1)   0.13  0.23  0.23  0.33  0.63  0.21  \n",
      "         Carina   0.64  3.63  1.50  0.34  2.41  5.45  \n",
      "         Fornax   0.26  0.37  0.98  0.48  2.90  1.03  \n",
      "           Leo2   1.17  1.00  3.70  2.82  6.04  2.48  \n",
      "           Leo1   1.11  1.15  1.84  0.34  1.88  1.03  \n"
     ]
    }
   ],
   "source": [
    "velM_ML = (vel_GC_ML**2).sum(axis=1)**0.5\n",
    "\n",
    "out = np.column_stack( (pos_GC.std(axis=0)/dis_GC_ML[:,None], vel_GC.std(axis=0)/velM_ML[:,None]) ) * 100.\n",
    "\n",
    "print(\"Uncertainties in the coordinates and velocities of the satellites (in percentage):\")\n",
    "print(\"                  x     y     z     v_x   v_y   v_z\")\n",
    "for i in range( len(sat_names) ):\n",
    "    print( \"%15s   \" % sat_names[i], end=\"\" )\n",
    "    for j in range(6):\n",
    "        print(\"%.2f  \" % out[i,j], end=\"\")\n",
    "    print()\n",
    "# print( np.column_stack( (sat_names, pos_GC.std(axis=0)/dis_GC_ML[:,None], vel_GC.std(axis=0)/velM_ML[:,None]) ) )\n"
   ]
  },
  {
   "cell_type": "code",
   "execution_count": 107,
   "metadata": {},
   "outputs": [
    {
     "name": "stdout",
     "output_type": "stream",
     "text": [
      "19.3537747244507 mag\n",
      "[ 0.          0.00292218 -0.00292612] mag\n"
     ]
    }
   ],
   "source": []
  },
  {
   "cell_type": "code",
   "execution_count": null,
   "metadata": {},
   "outputs": [],
   "source": []
  }
 ],
 "metadata": {
  "kernelspec": {
   "display_name": "Python 3",
   "language": "python",
   "name": "python3"
  },
  "language_info": {
   "codemirror_mode": {
    "name": "ipython",
    "version": 3
   },
   "file_extension": ".py",
   "mimetype": "text/x-python",
   "name": "python",
   "nbconvert_exporter": "python",
   "pygments_lexer": "ipython3",
   "version": "3.7.11"
  }
 },
 "nbformat": 4,
 "nbformat_minor": 4
}
