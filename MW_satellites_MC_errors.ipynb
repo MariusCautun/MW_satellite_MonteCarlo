{
 "cells": [
  {
   "cell_type": "code",
   "execution_count": 1,
   "metadata": {},
   "outputs": [],
   "source": [
    "import os\n",
    "import sys\n",
    "nb_dir = \"../include_files\"\n",
    "if nb_dir not in sys.path:\n",
    "    sys.path.append(nb_dir)\n",
    "\n",
    "\n",
    "import numpy as np\n",
    "import matplotlib.pyplot as plt\n",
    "from matplotlib import gridspec\n",
    "from matplotlib.ticker import MultipleLocator, FormatStrFormatter, AutoMinorLocator\n",
    "%matplotlib inline\n",
    "import h5py as h5\n",
    "\n",
    "from matplotlib.backends.backend_pdf import PdfPages\n",
    "\n",
    "plt.style.use(\"./include_files/marius.mplstyle\")\n",
    "fontSize = 15\n",
    "lineWidth = 1.5\n",
    "\n",
    "colors = [u'#1f77b4', u'#ff7f0e', u'#2ca02c', u'#d62728', u'#9467bd', u'#8c564b', u'#e377c2', u'#7f7f7f', u'#bcbd22', u'#17becf']\n",
    "\n",
    "import contextlib\n",
    "@contextlib.contextmanager\n",
    "def printoptions(*args, **kwargs):\n",
    "    original = np.get_printoptions()\n",
    "    np.set_printoptions(*args, **kwargs)\n",
    "    try:\n",
    "        yield\n",
    "    finally: \n",
    "        np.set_printoptions(**original)"
   ]
  },
  {
   "cell_type": "markdown",
   "metadata": {},
   "source": [
    "# Read the input data  \n",
    "  \n",
    "This consists of the McConnachie and Venn (2020) Gaia EDR3 proper motions. The paper is https://ui.adsabs.harvard.edu/abs/2020RNAAS...4..229M/abstract and the original method paper (applied to DR2) is https://ui.adsabs.harvard.edu/abs/2020AJ....160..124M/abstract .\n",
    "  \n",
    "It does not contain the proper motions for Sag, LMC, and SMC -- these are read from the Gaia DR2 flagship paper on proper motions: https://ui.adsabs.harvard.edu/abs/2018A%26A...616A..12G/abstract  \n",
    "  \n",
    "  \n",
    "### First start by reading the McConnacchie & Venn data."
   ]
  },
  {
   "cell_type": "code",
   "execution_count": 2,
   "metadata": {},
   "outputs": [
    {
     "name": "stdout",
     "output_type": "stream",
     "text": [
      "Filename: data/NearbyGalaxies_Jan2021_PUBLIC.fits\n",
      "No.    Name      Ver    Type      Cards   Dimensions   Format\n",
      "  0  PRIMARY       1 PrimaryHDU      16   (5262,)   uint8   \n",
      "  1  Joined        1 BinTableHDU    125   144R x 49C   [16A, 10A, 11A, E, E, E, E, E, E, E, E, E, E, E, E, E, E, E, E, E, E, E, E, E, E, E, E, E, E, E, E, E, E, E, E, E, E, E, E, E, E, I, E, E, E, E, E, E, 53A]   \n"
     ]
    },
    {
     "name": "stderr",
     "output_type": "stream",
     "text": [
      "WARNING: VerifyWarning: It is strongly recommended that column names contain only upper and lower-case ASCII letters, digits, or underscores for maximum compatibility with other software (got '[Fe/H]'). [astropy.io.fits.column]\n"
     ]
    },
    {
     "data": {
      "text/html": [
       "<div><i>QTable length=3</i>\n",
       "<table id=\"table4492054672\" class=\"table-striped table-bordered table-condensed\">\n",
       "<thead><tr><th>GalaxyName</th><th>RA</th><th>Dec</th><th>EB-V</th><th>dmod</th><th>dmod+</th><th>dmod-</th><th>vh</th><th>vh+</th><th>vh-</th><th>Vmag</th><th>Vmag+</th><th>Vmag-</th><th>PA</th><th>PA+</th><th>PA-</th><th>e=1-b/a</th><th>e+</th><th>e-</th><th>muVo</th><th>muVo+</th><th>muVo-</th><th>rh</th><th>rh+</th><th>rh-</th><th>sigma_s</th><th>sigma_s+</th><th>sigma_s-</th><th>vrot_s</th><th>vrot_s+</th><th>vrot_s-</th><th>MHI</th><th>sigma_g</th><th>sigma_g+</th><th>sigma_g-</th><th>vrot_g</th><th>vrot_g+</th><th>vrot_g-</th><th>[Fe/H]</th><th>feh+</th><th>feh-</th><th>F</th><th>pmra</th><th>epmra+</th><th>epmra-</th><th>pmdec</th><th>epmdec+</th><th>epmdec-</th><th>References</th></tr></thead>\n",
       "<thead><tr><th>bytes16</th><th>bytes10</th><th>bytes11</th><th>float32</th><th>float32</th><th>float32</th><th>float32</th><th>float32</th><th>float32</th><th>float32</th><th>float32</th><th>float32</th><th>float32</th><th>float32</th><th>float32</th><th>float32</th><th>float32</th><th>float32</th><th>float32</th><th>float32</th><th>float32</th><th>float32</th><th>float32</th><th>float32</th><th>float32</th><th>float32</th><th>float32</th><th>float32</th><th>float32</th><th>float32</th><th>float32</th><th>float32</th><th>float32</th><th>float32</th><th>float32</th><th>float32</th><th>float32</th><th>float32</th><th>float32</th><th>float32</th><th>float32</th><th>int16</th><th>float32</th><th>float32</th><th>float32</th><th>float32</th><th>float32</th><th>float32</th><th>bytes53</th></tr></thead>\n",
       "<tr><td>*Bootes3</td><td>13:57:12.0</td><td>26:48:0.0</td><td>0.021</td><td>18.35</td><td>0.1</td><td>0.1</td><td>197.5</td><td>3.8</td><td>3.8</td><td>12.6</td><td>0.5</td><td>0.5</td><td>90.0</td><td>999.0</td><td>999.0</td><td>0.5</td><td>999.0</td><td>999.0</td><td>31.3</td><td>0.3</td><td>0.3</td><td>999.0</td><td>999.0</td><td>999.0</td><td>14.0</td><td>3.2</td><td>3.2</td><td>999.0</td><td>999.0</td><td>999.0</td><td>999.0</td><td>999.0</td><td>999.0</td><td>999.0</td><td>999.0</td><td>999.0</td><td>999.0</td><td>-2.1</td><td>0.2</td><td>0.2</td><td>2</td><td>--</td><td>--</td><td>--</td><td>--</td><td>--</td><td>--</td><td>(14)(15)(99)</td></tr>\n",
       "<tr><td>*CanisMajor</td><td>7:12:35.0</td><td>-27:40:0.0</td><td>0.264</td><td>14.29</td><td>0.3</td><td>0.3</td><td>87.0</td><td>4.0</td><td>4.0</td><td>-0.1</td><td>0.8</td><td>0.8</td><td>123.0</td><td>999.0</td><td>999.0</td><td>999.0</td><td>999.0</td><td>999.0</td><td>24.0</td><td>0.6</td><td>0.6</td><td>999.0</td><td>999.0</td><td>999.0</td><td>20.0</td><td>3.0</td><td>3.0</td><td>999.0</td><td>999.0</td><td>999.0</td><td>999.0</td><td>999.0</td><td>999.0</td><td>999.0</td><td>999.0</td><td>999.0</td><td>999.0</td><td>-0.5</td><td>0.2</td><td>0.2</td><td>4</td><td>--</td><td>--</td><td>--</td><td>--</td><td>--</td><td>--</td><td>(1)(2)(95)(176)</td></tr>\n",
       "<tr><td>*Cetus2</td><td>1:17:52.8</td><td>-17:25:12.0</td><td>0.02</td><td>17.1</td><td>0.1</td><td>0.1</td><td>999.0</td><td>999.0</td><td>999.0</td><td>17.4</td><td>0.7</td><td>0.7</td><td>999.0</td><td>999.0</td><td>999.0</td><td>999.0</td><td>999.0</td><td>999.0</td><td>28.55</td><td>1.2</td><td>1.2</td><td>1.9</td><td>1.0</td><td>0.5</td><td>999.0</td><td>999.0</td><td>999.0</td><td>999.0</td><td>999.0</td><td>999.0</td><td>999.0</td><td>999.0</td><td>999.0</td><td>999.0</td><td>999.0</td><td>999.0</td><td>999.0</td><td>-1.28</td><td>0.07</td><td>0.07</td><td>5</td><td>2.84</td><td>0.05</td><td>0.07</td><td>0.46</td><td>0.06</td><td>0.07</td><td>(232)(260)(266)(267)</td></tr>\n",
       "</table></div>"
      ],
      "text/plain": [
       "<QTable length=3>\n",
       "   GalaxyName    ...                       References                     \n",
       "    bytes16      ...                        bytes53                       \n",
       "---------------- ... -----------------------------------------------------\n",
       "*Bootes3         ... (14)(15)(99)                                         \n",
       "*CanisMajor      ... (1)(2)(95)(176)                                      \n",
       "*Cetus2          ... (232)(260)(266)(267)                                 "
      ]
     },
     "execution_count": 2,
     "metadata": {},
     "output_type": "execute_result"
    }
   ],
   "source": [
    "# read the McConnachie data file\n",
    "from astropy.io import fits\n",
    "from astropy import units as u\n",
    "from astropy.table import QTable\n",
    "\n",
    "fits_data_filename = \"data/NearbyGalaxies_Jan2021_PUBLIC.fits\"\n",
    "with fits.open(fits_data_filename) as hdul:\n",
    "    hdul.info()\n",
    "    \n",
    "data = QTable.read(fits_data_filename)\n",
    "# print(data.meta)\n",
    "\n",
    "# make a copy to keep track off\n",
    "data3 = data.copy()\n",
    "\n",
    "data[:3]"
   ]
  },
  {
   "cell_type": "markdown",
   "metadata": {},
   "source": [
    "### Now read the data from the Gaia DR2. This is in a txt file."
   ]
  },
  {
   "cell_type": "code",
   "execution_count": 3,
   "metadata": {},
   "outputs": [],
   "source": [
    "data2_pm = np.loadtxt( \"data/MW_sats_McConnachie_2020_Gaia_DR2.txt\", usecols=[8,9,10,11] )[:11]\n",
    "data2_satName = np.loadtxt( \"data/MW_sats_McConnachie_2020_Gaia_DR2.txt\", usecols=[2] )[:11]"
   ]
  },
  {
   "cell_type": "markdown",
   "metadata": {},
   "source": [
    "### Copy the proper motions for Sag, LMC, and SMC"
   ]
  },
  {
   "cell_type": "code",
   "execution_count": 4,
   "metadata": {},
   "outputs": [
    {
     "name": "stdout",
     "output_type": "stream",
     "text": [
      "Found 3 satellites out of 3 searched for.\n",
      "\t Found all: True\n",
      "[123 100 121]\n",
      "Updated proper motion data:\n"
     ]
    },
    {
     "data": {
      "text/html": [
       "<div><i>QTable length=3</i>\n",
       "<table id=\"table4795979472\" class=\"table-striped table-bordered table-condensed\">\n",
       "<thead><tr><th>GalaxyName</th><th>pmra</th><th>epmra+</th><th>epmra-</th><th>pmdec</th><th>epmdec+</th><th>epmdec-</th></tr></thead>\n",
       "<thead><tr><th>bytes16</th><th>float32</th><th>float32</th><th>float32</th><th>float32</th><th>float32</th><th>float32</th></tr></thead>\n",
       "<tr><td>LMC</td><td>1.85</td><td>0.03</td><td>0.03</td><td>0.234</td><td>0.03</td><td>0.03</td></tr>\n",
       "<tr><td>SMC</td><td>0.797</td><td>0.03</td><td>0.03</td><td>-1.22</td><td>0.03</td><td>0.03</td></tr>\n",
       "<tr><td>SagittariusdSph</td><td>-2.692</td><td>0.001</td><td>0.001</td><td>-1.359</td><td>0.001</td><td>0.001</td></tr>\n",
       "</table></div>"
      ],
      "text/plain": [
       "<QTable length=3>\n",
       "   GalaxyName      pmra   epmra+  epmra-  pmdec  epmdec+ epmdec-\n",
       "    bytes16      float32 float32 float32 float32 float32 float32\n",
       "---------------- ------- ------- ------- ------- ------- -------\n",
       "LMC                 1.85    0.03    0.03   0.234    0.03    0.03\n",
       "SMC                0.797    0.03    0.03   -1.22    0.03    0.03\n",
       "SagittariusdSph   -2.692   0.001   0.001  -1.359   0.001   0.001"
      ]
     },
     "execution_count": 4,
     "metadata": {},
     "output_type": "execute_result"
    }
   ],
   "source": [
    "# Find the satellites in question: Sag, LMC and SMC in the table\n",
    "target_sats = [ 'SagittariusdSph', 'LMC', 'SMC']\n",
    "numSats_total = len(data['GalaxyName'])\n",
    "numSats = len(target_sats)\n",
    "\n",
    "sel_target = np.array( [ data['GalaxyName'][i].strip() in target_sats for i in range(numSats_total) ] )\n",
    "print( \"Found {0} satellites out of {1} searched for.\\n\\t Found all: {2}\".format( sel_target.sum(), numSats, sel_target.sum()==numSats) )\n",
    "\n",
    "# copy the proper motion data\n",
    "reorder = (data['dmod'][sel_target]).argsort() # order the sats using the distance modulus\n",
    "index = np.arange( numSats_total )[sel_target][reorder]\n",
    "print(index[:3])\n",
    "\n",
    "data['pmra'][index] = data2_pm[:3,0]\n",
    "data['epmra+'][index] = data2_pm[:3,1]\n",
    "data['epmra-'][index] = data2_pm[:3,1]\n",
    "\n",
    "data['pmdec'][index] = data2_pm[:3,2]\n",
    "data['epmdec+'][index] = data2_pm[:3,3]\n",
    "data['epmdec-'][index] = data2_pm[:3,3]\n",
    "\n",
    "print( \"Updated proper motion data:\" )\n",
    "data[['GalaxyName','pmra','epmra+','epmra-','pmdec','epmdec+','epmdec-']][sel_target]"
   ]
  },
  {
   "cell_type": "markdown",
   "metadata": {},
   "source": [
    "## Print the proper motion of the classical satellites"
   ]
  },
  {
   "cell_type": "code",
   "execution_count": 5,
   "metadata": {},
   "outputs": [
    {
     "name": "stdout",
     "output_type": "stream",
     "text": [
      "Found 11 satellites out of 11 searched for.\n",
      "\t Found all: True\n",
      "Updated proper motion data:\n"
     ]
    },
    {
     "data": {
      "text/html": [
       "<div><i>QTable length=11</i>\n",
       "<table id=\"table4782712528\" class=\"table-striped table-bordered table-condensed\">\n",
       "<thead><tr><th>GalaxyName</th><th>RA</th><th>Dec</th><th>vh</th><th>vh+</th><th>vh-</th><th>pmra</th><th>epmra+</th><th>epmra-</th><th>pmdec</th><th>epmdec+</th><th>epmdec-</th></tr></thead>\n",
       "<thead><tr><th>bytes16</th><th>bytes10</th><th>bytes11</th><th>float32</th><th>float32</th><th>float32</th><th>float32</th><th>float32</th><th>float32</th><th>float32</th><th>float32</th><th>float32</th></tr></thead>\n",
       "<tr><td>Carina</td><td>6:41:36.7</td><td>-50:57:58.0</td><td>222.9</td><td>0.1</td><td>0.1</td><td>0.53</td><td>0.01</td><td>0.01</td><td>0.12</td><td>0.01</td><td>0.01</td></tr>\n",
       "<tr><td>Draco</td><td>17:20:12.4</td><td>57:54:55.0</td><td>-291.0</td><td>0.1</td><td>0.1</td><td>0.042</td><td>0.005</td><td>0.005</td><td>-0.19</td><td>0.01</td><td>0.01</td></tr>\n",
       "<tr><td>Fornax</td><td>2:39:59.3</td><td>-34:26:57.0</td><td>55.3</td><td>0.1</td><td>0.1</td><td>0.382</td><td>0.001</td><td>0.001</td><td>-0.359</td><td>0.002</td><td>0.002</td></tr>\n",
       "<tr><td>LMC</td><td>5:23:34.5</td><td>-69:45:22.0</td><td>262.2</td><td>3.4</td><td>3.4</td><td>1.85</td><td>0.03</td><td>0.03</td><td>0.234</td><td>0.03</td><td>0.03</td></tr>\n",
       "<tr><td>Leo1</td><td>10:8:28.1</td><td>12:18:23.0</td><td>282.5</td><td>0.1</td><td>0.1</td><td>-0.05</td><td>0.01</td><td>0.01</td><td>-0.11</td><td>0.01</td><td>0.01</td></tr>\n",
       "<tr><td>Leo2</td><td>11:13:28.8</td><td>22:9:6.0</td><td>78.0</td><td>0.1</td><td>0.1</td><td>-0.14</td><td>0.02</td><td>0.02</td><td>-0.12</td><td>0.02</td><td>0.02</td></tr>\n",
       "<tr><td>SMC</td><td>0:52:44.8</td><td>-72:49:43.0</td><td>145.6</td><td>0.6</td><td>0.6</td><td>0.797</td><td>0.03</td><td>0.03</td><td>-1.22</td><td>0.03</td><td>0.03</td></tr>\n",
       "<tr><td>SagittariusdSph</td><td>18:55:19.5</td><td>-30:32:43.0</td><td>140.0</td><td>2.0</td><td>2.0</td><td>-2.692</td><td>0.001</td><td>0.001</td><td>-1.359</td><td>0.001</td><td>0.001</td></tr>\n",
       "<tr><td>Sculptor</td><td>1:0:9.4</td><td>-33:42:33.0</td><td>111.4</td><td>0.1</td><td>0.1</td><td>0.099</td><td>0.002</td><td>0.002</td><td>-0.16</td><td>0.002</td><td>0.002</td></tr>\n",
       "<tr><td>Sextans(1)</td><td>10:13:3.0</td><td>-1:36:53.0</td><td>224.2</td><td>0.1</td><td>0.1</td><td>-0.41</td><td>0.01</td><td>0.01</td><td>0.04</td><td>0.01</td><td>0.01</td></tr>\n",
       "<tr><td>UrsaMinor</td><td>15:9:8.5</td><td>67:13:21.0</td><td>-246.9</td><td>0.1</td><td>0.1</td><td>-0.124</td><td>0.004</td><td>0.004</td><td>0.078</td><td>0.004</td><td>0.004</td></tr>\n",
       "</table></div>"
      ],
      "text/plain": [
       "<QTable length=11>\n",
       "   GalaxyName        RA         Dec        vh   ...  pmdec  epmdec+ epmdec-\n",
       "    bytes16       bytes10     bytes11   float32 ... float32 float32 float32\n",
       "---------------- ---------- ----------- ------- ... ------- ------- -------\n",
       "Carina           6:41:36.7  -50:57:58.0   222.9 ...    0.12    0.01    0.01\n",
       "Draco            17:20:12.4 57:54:55.0   -291.0 ...   -0.19    0.01    0.01\n",
       "Fornax           2:39:59.3  -34:26:57.0    55.3 ...  -0.359   0.002   0.002\n",
       "LMC              5:23:34.5  -69:45:22.0   262.2 ...   0.234    0.03    0.03\n",
       "Leo1             10:8:28.1  12:18:23.0    282.5 ...   -0.11    0.01    0.01\n",
       "Leo2             11:13:28.8 22:9:6.0       78.0 ...   -0.12    0.02    0.02\n",
       "SMC              0:52:44.8  -72:49:43.0   145.6 ...   -1.22    0.03    0.03\n",
       "SagittariusdSph  18:55:19.5 -30:32:43.0   140.0 ...  -1.359   0.001   0.001\n",
       "Sculptor         1:0:9.4    -33:42:33.0   111.4 ...   -0.16   0.002   0.002\n",
       "Sextans(1)       10:13:3.0  -1:36:53.0    224.2 ...    0.04    0.01    0.01\n",
       "UrsaMinor        15:9:8.5   67:13:21.0   -246.9 ...   0.078   0.004   0.004"
      ]
     },
     "execution_count": 5,
     "metadata": {},
     "output_type": "execute_result"
    }
   ],
   "source": [
    "target_sats = [ 'SagittariusdSph', 'LMC', 'SMC', 'Fornax', 'Leo1', 'Leo2', 'Carina', 'Draco',\n",
    "                   'Sculptor', 'Sextans(1)', 'UrsaMinor']\n",
    "numSats_total = len(data['GalaxyName'])\n",
    "numSats = len(target_sats)\n",
    "\n",
    "sel_target = np.array( [ data['GalaxyName'][i].strip() in target_sats for i in range(numSats_total) ] )\n",
    "print( \"Found {0} satellites out of {1} searched for.\\n\\t Found all: {2}\".format( sel_target.sum(), numSats, sel_target.sum()==numSats) )\n",
    "\n",
    "print( \"Updated proper motion data:\" )\n",
    "data[['GalaxyName','RA', 'Dec', 'vh','vh+','vh-', 'pmra','epmra+','epmra-','pmdec','epmdec+','epmdec-']][sel_target]"
   ]
  },
  {
   "cell_type": "markdown",
   "metadata": {},
   "source": [
    "# Identify satellites within 300 kpc from the Galactic Centre  \n",
    "  \n",
    "Valid satellites should be within 300 kpc from the Galactic Centre and have distance, radial velocity and proper motion measurements. We select satellites using the most likely distance modulus."
   ]
  },
  {
   "cell_type": "code",
   "execution_count": 6,
   "metadata": {},
   "outputs": [
    {
     "name": "stdout",
     "output_type": "stream",
     "text": [
      "Satellites that passed the distance selection criterion:  62\n",
      "       and radial velocity criterion:  51\n",
      "       and proper motion criterion:  48\n"
     ]
    },
    {
     "data": {
      "text/html": [
       "<div><i>QTable length=48</i>\n",
       "<table id=\"table4798878288\" class=\"table-striped table-bordered table-condensed\">\n",
       "<thead><tr><th>GalaxyName</th><th>dmod</th><th>vh</th><th>pmra</th><th>pmdec</th></tr></thead>\n",
       "<thead><tr><th>bytes16</th><th>float32</th><th>float32</th><th>float32</th><th>float32</th></tr></thead>\n",
       "<tr><td>*Columba1</td><td>21.3</td><td>153.7</td><td>0.19</td><td>-0.36</td></tr>\n",
       "<tr><td>*Draco2</td><td>16.67</td><td>-342.5</td><td>1.08</td><td>0.91</td></tr>\n",
       "<tr><td>*Grus1</td><td>20.4</td><td>-140.5</td><td>0.07</td><td>-0.29</td></tr>\n",
       "<tr><td>*Grus2</td><td>18.62</td><td>-110.0</td><td>0.38</td><td>-1.46</td></tr>\n",
       "<tr><td>*Horologium1</td><td>19.5</td><td>112.8</td><td>0.82</td><td>-0.61</td></tr>\n",
       "<tr><td>*Horologium2</td><td>19.46</td><td>168.7</td><td>0.76</td><td>-0.41</td></tr>\n",
       "<tr><td>*Pegasus3</td><td>21.56</td><td>-222.9</td><td>0.06</td><td>-0.2</td></tr>\n",
       "<tr><td>*Phoenix2</td><td>19.6</td><td>32.4</td><td>0.48</td><td>-1.17</td></tr>\n",
       "<tr><td>*Reticulum2</td><td>17.4</td><td>64.7</td><td>2.39</td><td>-1.36</td></tr>\n",
       "<tr><td>*Reticulum3</td><td>19.81</td><td>274.2</td><td>0.36</td><td>0.05</td></tr>\n",
       "<tr><td>...</td><td>...</td><td>...</td><td>...</td><td>...</td></tr>\n",
       "<tr><td>SagittariusdSph</td><td>17.1</td><td>140.0</td><td>-2.692</td><td>-1.359</td></tr>\n",
       "<tr><td>Sculptor</td><td>19.67</td><td>111.4</td><td>0.099</td><td>-0.16</td></tr>\n",
       "<tr><td>Segue(1)</td><td>16.8</td><td>208.5</td><td>-2.21</td><td>-3.34</td></tr>\n",
       "<tr><td>Segue2</td><td>17.7</td><td>-39.2</td><td>1.47</td><td>-0.31</td></tr>\n",
       "<tr><td>Sextans(1)</td><td>19.67</td><td>224.2</td><td>-0.41</td><td>0.04</td></tr>\n",
       "<tr><td>Tucana2</td><td>18.8</td><td>-129.1</td><td>0.9</td><td>-1.26</td></tr>\n",
       "<tr><td>UrsaMajor(1)</td><td>19.93</td><td>-55.3</td><td>-0.39</td><td>-0.63</td></tr>\n",
       "<tr><td>UrsaMajor2</td><td>17.5</td><td>-116.5</td><td>1.72</td><td>-1.89</td></tr>\n",
       "<tr><td>UrsaMinor</td><td>19.4</td><td>-246.9</td><td>-0.124</td><td>0.078</td></tr>\n",
       "<tr><td>Willman1</td><td>17.9</td><td>-12.3</td><td>0.21</td><td>-1.08</td></tr>\n",
       "</table></div>"
      ],
      "text/plain": [
       "<QTable length=48>\n",
       "   GalaxyName      dmod     vh     pmra   pmdec \n",
       "    bytes16      float32 float32 float32 float32\n",
       "---------------- ------- ------- ------- -------\n",
       "*Columba1           21.3   153.7    0.19   -0.36\n",
       "*Draco2            16.67  -342.5    1.08    0.91\n",
       "*Grus1              20.4  -140.5    0.07   -0.29\n",
       "*Grus2             18.62  -110.0    0.38   -1.46\n",
       "*Horologium1        19.5   112.8    0.82   -0.61\n",
       "*Horologium2       19.46   168.7    0.76   -0.41\n",
       "*Pegasus3          21.56  -222.9    0.06    -0.2\n",
       "*Phoenix2           19.6    32.4    0.48   -1.17\n",
       "*Reticulum2         17.4    64.7    2.39   -1.36\n",
       "*Reticulum3        19.81   274.2    0.36    0.05\n",
       "             ...     ...     ...     ...     ...\n",
       "SagittariusdSph     17.1   140.0  -2.692  -1.359\n",
       "Sculptor           19.67   111.4   0.099   -0.16\n",
       "Segue(1)            16.8   208.5   -2.21   -3.34\n",
       "Segue2              17.7   -39.2    1.47   -0.31\n",
       "Sextans(1)         19.67   224.2   -0.41    0.04\n",
       "Tucana2             18.8  -129.1     0.9   -1.26\n",
       "UrsaMajor(1)       19.93   -55.3   -0.39   -0.63\n",
       "UrsaMajor2          17.5  -116.5    1.72   -1.89\n",
       "UrsaMinor           19.4  -246.9  -0.124   0.078\n",
       "Willman1            17.9   -12.3    0.21   -1.08"
      ]
     },
     "execution_count": 6,
     "metadata": {},
     "output_type": "execute_result"
    }
   ],
   "source": [
    "import astropy.coordinates as coord\n",
    "\n",
    "# define the selection criteria\n",
    "dist_max = 300 * u.kpc\n",
    "dmod_max = coord.Distance( value=dist_max ).distmod  # transform to distance modulus\n",
    "vrad_max = 900. * u.km / u.s # larger values indicate a missing meaurement \n",
    "\n",
    "# select by distance\n",
    "sel_distance = data['dmod'] <= dmod_max.value\n",
    "print( \"Satellites that passed the distance selection criterion: \", sel_distance.sum() )\n",
    "\n",
    "# select by radial velocity\n",
    "sel_vrad = sel_distance * (data['vh'] <= vrad_max.value)\n",
    "print( \"       and radial velocity criterion: \", sel_vrad.sum() )\n",
    "\n",
    "# select by proper motions\n",
    "sel_pm  = np.array( [ np.isscalar(data['pmra'][i]) & np.isscalar(data['pmdec'][i]) for i in range(numSats_total) ] )\n",
    "sel_valid = sel_vrad * sel_pm\n",
    "print( \"       and proper motion criterion: \", sel_valid.sum() )\n",
    "\n",
    "data[['GalaxyName','dmod','vh','pmra','pmdec',]][sel_valid]\n"
   ]
  },
  {
   "cell_type": "markdown",
   "metadata": {},
   "source": [
    "# Transform from Solar to Galactocentric coordinates  \n",
    "  \n",
    "https://docs.astropy.org/en/stable/api/astropy.coordinates.Galactocentric.html#astropy.coordinates.Galactocentric  \n",
    "https://docs.astropy.org/en/stable/coordinates/velocities.html  \n",
    "https://docs.astropy.org/en/stable/generated/examples/coordinates/plot_galactocentric-frame.html\n",
    "\n",
    "To account for errors, generate many Monte Carlo samples in observed space taking into account the measurement errors in observed satellite positions and also in the position and velocity of the Sun. The Solar reference frame values are taken from:  \n",
    "- Sun's position in the disc plane $R_\\odot= (8.178 \\pm 0.022) ~\\rm{kpc}$ from [Gravity Collaboration et al (2019)](https://ui.adsabs.harvard.edu/abs/2019A%26A...625L..10G/abstract)  \n",
    "- Sun's vertical position (i.e. from disc plane) $z=(0.020\\pm0.005) ~\\rm{kpc}$ from [Joshi (2007)](https://ui.adsabs.harvard.edu/abs/2007MNRAS.378..768J/exportcitation)  \n",
    "- circular velocity at the Sun's position $V_{\\rm circ} = (234.7\\pm1.7)~\\rm{km/s}$ from [Nitschai et al (2021)](https://ui.adsabs.harvard.edu/abs/2021ApJ...916..112N/abstract)  \n",
    "- Sun's motion with respect to the LSR (local standard of rest) $(U,V,W)=(11.10 \\pm 0.72, 12.24\\pm0.47, 7.25\\pm0.37)~\\rm{km/s}$ from [Schonrich, Binney and Dehnen (2010)](https://ui.adsabs.harvard.edu/abs/2010MNRAS.403.1829S/abstract)\n"
   ]
  },
  {
   "cell_type": "markdown",
   "metadata": {},
   "source": [
    "### Function for doing the transformation using *astropy*"
   ]
  },
  {
   "cell_type": "code",
   "execution_count": 7,
   "metadata": {},
   "outputs": [],
   "source": [
    "# transform to Galactocentric coordinates\n",
    "import astropy.coordinates as coord\n",
    "\n",
    "def satellite_phase_space_wrt_GC( ra, dec, dist, rad_vel, pmra, pmdec, Sun_R, Sun_z, Sun_vel ):\n",
    "    gc_frame = coord.Galactocentric( galcen_distance=Sun_R*u.kpc, galcen_v_sun=Sun_vel*u.km/u.s, z_sun=Sun_z*u.kpc)\n",
    "    \n",
    "    coord_Sun = coord.SkyCoord( ra=ra, dec=dec, unit=(u.hourangle, u.deg), #frame='icrs',\n",
    "                        distance=dist*u.kpc, \n",
    "                        pm_ra_cosdec=pmra*u.mas/u.yr,\n",
    "                        pm_dec=pmdec*u.mas/u.yr,\n",
    "                        radial_velocity=rad_vel*u.km/u.s )\n",
    "    \n",
    "    coord_GC = coord_Sun.transform_to(gc_frame)\n",
    "    return coord_GC\n"
   ]
  },
  {
   "cell_type": "markdown",
   "metadata": {},
   "source": [
    "### The measurements and their errors"
   ]
  },
  {
   "cell_type": "code",
   "execution_count": 8,
   "metadata": {},
   "outputs": [],
   "source": [
    "sun_vCirc = np.array( [234.7, 1.7] )   # Vcirc at Sun's position: value + error from Nitschai + 2021 -- https://ui.adsabs.harvard.edu/abs/2021ApJ...916..112N/abstract\n",
    "sun_R = np.array( [8.178, 0.022] )  # in-plane distance of the Sun from GC: value + error from Gravity Collaboration + 2019 -- https://ui.adsabs.harvard.edu/abs/2019A%26A...625L..10G/abstract\n",
    "sun_LSR   = np.array( [ [11.10, 0.72], [12.24,0.47], [7.25,0.37] ]  )  # (U,V,W) vel. of sun w.r.t. local standard of rest - Schonrich, Binney and Dehnen 2010 -- https://ui.adsabs.harvard.edu/abs/2010MNRAS.403.1829S/abstract\n",
    "sun_z = np.array( [0.020,0.01])   # Sun's z displacement Joshi (2007) -- https://ui.adsabs.harvard.edu/abs/2007MNRAS.378..768J/exportcitation"
   ]
  },
  {
   "cell_type": "markdown",
   "metadata": {},
   "source": [
    "### First transform the most likely (ML) measurements to sort the satellites from closest to farthest from the GC"
   ]
  },
  {
   "cell_type": "code",
   "execution_count": 9,
   "metadata": {},
   "outputs": [
    {
     "name": "stdout",
     "output_type": "stream",
     "text": [
      "The most likely (pos,vel) of the satellites:\n"
     ]
    },
    {
     "data": {
      "text/html": [
       "<i>QTable length=48</i>\n",
       "<table id=\"table4799145296-709875\" class=\"table-striped table-bordered table-condensed\">\n",
       "<thead><tr><th>idx</th><th>Name</th><th>x_ML</th><th>y_ML</th><th>z_ML</th><th>dis_ML</th><th>Vx_ML</th><th>Vy_ML</th><th>Vz_ML</th></tr></thead>\n",
       "<thead><tr><th></th><th></th><th>kpc</th><th>kpc</th><th>kpc</th><th>kpc</th><th>km / s</th><th>km / s</th><th>km / s</th></tr></thead>\n",
       "<tr><td>0</td><td>SagittariusdSph</td><td>17.19</td><td>2.47</td><td>-6.48</td><td>18.54</td><td>233.36</td><td>-21.62</td><td>205.89</td></tr>\n",
       "<tr><td>1</td><td>*Tucana3</td><td>1.77</td><td>-9.87</td><td>-20.97</td><td>23.24</td><td>33.85</td><td>134.18</td><td>194.01</td></tr>\n",
       "<tr><td>2</td><td>*Draco2</td><td>-10.42</td><td>15.65</td><td>14.71</td><td>23.87</td><td>8.0</td><td>90.85</td><td>-330.09</td></tr>\n",
       "<tr><td>3</td><td>Hydrus1</td><td>1.94</td><td>-19.59</td><td>-16.48</td><td>25.68</td><td>-157.44</td><td>-184.32</td><td>281.65</td></tr>\n",
       "<tr><td>4</td><td>Segue(1)</td><td>-19.24</td><td>-9.47</td><td>17.71</td><td>27.81</td><td>-149.06</td><td>-202.47</td><td>-63.57</td></tr>\n",
       "<tr><td>5</td><td>Carina3</td><td>-8.19</td><td>-26.6</td><td>-8.04</td><td>28.97</td><td>-2.57</td><td>-158.25</td><td>363.39</td></tr>\n",
       "<tr><td>6</td><td>*Reticulum2</td><td>-9.5</td><td>-19.48</td><td>-23.02</td><td>31.62</td><td>19.76</td><td>-95.63</td><td>211.54</td></tr>\n",
       "<tr><td>7</td><td>*Triangulum2</td><td>-29.65</td><td>17.42</td><td>-12.12</td><td>36.46</td><td>225.64</td><td>-19.8</td><td>194.45</td></tr>\n",
       "<tr><td>8</td><td>Carina2</td><td>-8.22</td><td>-34.54</td><td>-10.63</td><td>37.06</td><td>122.01</td><td>-298.48</td><td>156.16</td></tr>\n",
       "<tr><td>9</td><td>UrsaMajor2</td><td>-30.39</td><td>11.61</td><td>19.3</td><td>37.83</td><td>166.78</td><td>-74.16</td><td>188.87</td></tr>\n",
       "<tr><td>10</td><td>Bootes2</td><td>6.85</td><td>-1.65</td><td>38.87</td><td>39.5</td><td>-321.61</td><td>-101.53</td><td>-4.38</td></tr>\n",
       "<tr><td>11</td><td>Segue2</td><td>-31.71</td><td>13.87</td><td>-21.33</td><td>40.66</td><td>-114.29</td><td>41.79</td><td>75.86</td></tr>\n",
       "<tr><td>12</td><td>Willman1</td><td>-27.49</td><td>7.61</td><td>31.87</td><td>42.77</td><td>76.67</td><td>71.74</td><td>74.17</td></tr>\n",
       "<tr><td>13</td><td>ComaBerenices</td><td>-10.36</td><td>-4.28</td><td>43.41</td><td>44.83</td><td>258.25</td><td>-24.8</td><td>91.55</td></tr>\n",
       "<tr><td>14</td><td>*Tucana4</td><td>10.5</td><td>-19.93</td><td>-39.55</td><td>45.52</td><td>21.96</td><td>-116.05</td><td>175.86</td></tr>\n",
       "<tr><td>15</td><td>*Grus2</td><td>23.98</td><td>-5.03</td><td>-41.76</td><td>48.42</td><td>-108.56</td><td>-117.68</td><td>98.46</td></tr>\n",
       "<tr><td>16</td><td>LMC</td><td>-0.53</td><td>-41.77</td><td>-27.47</td><td>49.99</td><td>-40.92</td><td>-221.73</td><td>222.47</td></tr>\n",
       "<tr><td>17</td><td>*Tucana5</td><td>16.35</td><td>-23.53</td><td>-43.48</td><td>52.08</td><td>84.51</td><td>31.79</td><td>211.12</td></tr>\n",
       "<tr><td>18</td><td>Tucana2</td><td>21.56</td><td>-18.59</td><td>-45.6</td><td>53.76</td><td>-237.4</td><td>-90.9</td><td>145.77</td></tr>\n",
       "<tr><td>19</td><td>SMC</td><td>16.51</td><td>-38.49</td><td>-44.72</td><td>61.27</td><td>7.6</td><td>-188.36</td><td>171.59</td></tr>\n",
       "<tr><td>20</td><td>Bootes(1)</td><td>15.07</td><td>-0.77</td><td>62.18</td><td>63.99</td><td>152.94</td><td>-90.15</td><td>55.71</td></tr>\n",
       "<tr><td>21</td><td>*Sagittarius2</td><td>55.46</td><td>21.86</td><td>-28.58</td><td>66.11</td><td>32.12</td><td>-152.29</td><td>202.15</td></tr>\n",
       "<tr><td>22</td><td>Draco</td><td>-4.12</td><td>62.22</td><td>43.22</td><td>75.87</td><td>64.89</td><td>10.06</td><td>-167.6</td></tr>\n",
       "<tr><td>23</td><td>UrsaMinor</td><td>-21.95</td><td>52.0</td><td>53.51</td><td>77.77</td><td>8.5</td><td>56.37</td><td>-158.32</td></tr>\n",
       "<tr><td>24</td><td>*Horologium2</td><td>-14.32</td><td>-45.29</td><td>-63.16</td><td>79.03</td><td>-22.63</td><td>-109.02</td><td>57.47</td></tr>\n",
       "<tr><td>25</td><td>*Horologium1</td><td>-7.23</td><td>-45.85</td><td>-64.84</td><td>79.74</td><td>15.53</td><td>-132.38</td><td>137.32</td></tr>\n",
       "<tr><td>26</td><td>*Phoenix2</td><td>25.41</td><td>-24.82</td><td>-71.91</td><td>80.21</td><td>-19.2</td><td>-238.21</td><td>123.01</td></tr>\n",
       "<tr><td>27</td><td>Sculptor</td><td>-5.3</td><td>-9.76</td><td>-85.28</td><td>86.0</td><td>17.75</td><td>158.23</td><td>-94.56</td></tr>\n",
       "<tr><td>28</td><td>Sextans(1)</td><td>-36.4</td><td>-56.88</td><td>57.87</td><td>88.94</td><td>-205.16</td><td>81.13</td><td>71.62</td></tr>\n",
       "<tr><td>29</td><td>*Reticulum3</td><td>-4.01</td><td>-63.9</td><td>-65.51</td><td>91.6</td><td>-64.2</td><td>-40.98</td><td>-100.16</td></tr>\n",
       "<tr><td>30</td><td>UrsaMajor(1)</td><td>-60.74</td><td>19.8</td><td>78.89</td><td>101.52</td><td>-82.37</td><td>-81.24</td><td>-40.56</td></tr>\n",
       "<tr><td>31</td><td>Aquarius2</td><td>28.66</td><td>53.13</td><td>-86.05</td><td>105.11</td><td>154.12</td><td>48.13</td><td>34.68</td></tr>\n",
       "<tr><td>32</td><td>Carina</td><td>-25.0</td><td>-95.94</td><td>-39.73</td><td>106.8</td><td>-25.68</td><td>-59.89</td><td>173.45</td></tr>\n",
       "<tr><td>33</td><td>Crater2</td><td>11.51</td><td>-85.07</td><td>78.63</td><td>116.41</td><td>19.38</td><td>133.7</td><td>13.41</td></tr>\n",
       "<tr><td>34</td><td>*Grus1</td><td>50.52</td><td>-23.01</td><td>-102.35</td><td>116.44</td><td>-63.83</td><td>107.31</td><td>160.67</td></tr>\n",
       "<tr><td>35</td><td>Hercules</td><td>84.49</td><td>50.69</td><td>78.89</td><td>126.22</td><td>184.93</td><td>99.9</td><td>-26.95</td></tr>\n",
       "<tr><td>36</td><td>Hydra2</td><td>42.03</td><td>-104.36</td><td>67.97</td><td>131.45</td><td>-43.46</td><td>-117.23</td><td>87.19</td></tr>\n",
       "<tr><td>37</td><td>Antlia2</td><td>-19.62</td><td>-128.78</td><td>25.76</td><td>132.79</td><td>-105.78</td><td>-25.69</td><td>80.09</td></tr>\n",
       "<tr><td>38</td><td>Fornax</td><td>-41.47</td><td>-50.97</td><td>-134.03</td><td>149.28</td><td>15.41</td><td>-115.2</td><td>83.13</td></tr>\n",
       "<tr><td>39</td><td>Leo4</td><td>-14.62</td><td>-84.79</td><td>128.62</td><td>154.74</td><td>28.58</td><td>37.89</td><td>28.9</td></tr>\n",
       "<tr><td>40</td><td>CanesVenatici2</td><td>-15.92</td><td>18.62</td><td>158.7</td><td>160.58</td><td>35.51</td><td>0.13</td><td>-92.54</td></tr>\n",
       "<tr><td>41</td><td>Pisces2</td><td>14.8</td><td>122.23</td><td>-133.97</td><td>181.95</td><td>4.53</td><td>-74.61</td><td>21.83</td></tr>\n",
       "<tr><td>42</td><td>*Columba1</td><td>-107.32</td><td>-124.91</td><td>-87.62</td><td>186.54</td><td>178.73</td><td>-97.29</td><td>-10.89</td></tr>\n",
       "<tr><td>43</td><td>Leo5</td><td>-22.24</td><td>-101.21</td><td>167.14</td><td>196.66</td><td>61.45</td><td>-41.92</td><td>39.67</td></tr>\n",
       "<tr><td>44</td><td>*Pegasus3</td><td>44.15</td><td>143.52</td><td>-136.86</td><td>203.17</td><td>5.28</td><td>-54.08</td><td>23.42</td></tr>\n",
       "<tr><td>45</td><td>CanesVenatici(1)</td><td>2.75</td><td>37.04</td><td>214.34</td><td>217.53</td><td>-1.04</td><td>87.27</td><td>66.87</td></tr>\n",
       "<tr><td>46</td><td>Leo2</td><td>-76.66</td><td>-58.25</td><td>215.35</td><td>235.89</td><td>-92.81</td><td>54.87</td><td>6.77</td></tr>\n",
       "<tr><td>47</td><td>Leo1</td><td>-123.01</td><td>-119.34</td><td>191.96</td><td>257.34</td><td>-112.63</td><td>-10.43</td><td>146.32</td></tr>\n",
       "</table><style>table.dataTable {clear: both; width: auto !important; margin: 0 !important;}\n",
       ".dataTables_info, .dataTables_length, .dataTables_filter, .dataTables_paginate{\n",
       "display: inline-block; margin-right: 1em; }\n",
       ".paginate_button { margin-right: 5px; }\n",
       "</style>\n",
       "<script>\n",
       "\n",
       "var astropy_sort_num = function(a, b) {\n",
       "    var a_num = parseFloat(a);\n",
       "    var b_num = parseFloat(b);\n",
       "\n",
       "    if (isNaN(a_num) && isNaN(b_num))\n",
       "        return ((a < b) ? -1 : ((a > b) ? 1 : 0));\n",
       "    else if (!isNaN(a_num) && !isNaN(b_num))\n",
       "        return ((a_num < b_num) ? -1 : ((a_num > b_num) ? 1 : 0));\n",
       "    else\n",
       "        return isNaN(a_num) ? -1 : 1;\n",
       "}\n",
       "\n",
       "require.config({paths: {\n",
       "    datatables: 'https://cdn.datatables.net/1.10.12/js/jquery.dataTables.min'\n",
       "}});\n",
       "require([\"datatables\"], function(){\n",
       "    console.log(\"$('#table4799145296-709875').dataTable()\");\n",
       "    \n",
       "jQuery.extend( jQuery.fn.dataTableExt.oSort, {\n",
       "    \"optionalnum-asc\": astropy_sort_num,\n",
       "    \"optionalnum-desc\": function (a,b) { return -astropy_sort_num(a, b); }\n",
       "});\n",
       "\n",
       "    $('#table4799145296-709875').dataTable({\n",
       "        order: [],\n",
       "        pageLength: 50,\n",
       "        lengthMenu: [[10, 25, 50, 100, 500, 1000, -1], [10, 25, 50, 100, 500, 1000, 'All']],\n",
       "        pagingType: \"full_numbers\",\n",
       "        columnDefs: [{targets: [0, 2, 3, 4, 5, 6, 7, 8], type: \"optionalnum\"}]\n",
       "    });\n",
       "});\n",
       "</script>\n"
      ],
      "text/plain": [
       "<IPython.core.display.HTML object>"
      ]
     },
     "execution_count": 9,
     "metadata": {},
     "output_type": "execute_result"
    }
   ],
   "source": [
    "sat_dist= coord.Distance( distmod=data['dmod'][sel_valid], unit=u.kpc).value\n",
    "sun_vel = [sun_LSR[0,0], sun_vCirc[0]+sun_LSR[1,0], sun_LSR[2,0]]\n",
    "\n",
    "coords = satellite_phase_space_wrt_GC( ra=data['RA'][sel_valid], dec=data['Dec'][sel_valid], \\\n",
    "                                          dist=sat_dist, rad_vel=data['vh'][sel_valid], \\\n",
    "                                          pmra=data['pmra'][sel_valid], pmdec =data['pmdec'][sel_valid], \\\n",
    "                                          Sun_R=sun_R[0], Sun_z=sun_z[0], Sun_vel=sun_vel )\n",
    "\n",
    "# sort satellites in order of distance from GC\n",
    "pos_GC_ML = np.column_stack( (coords.x.value, coords.y.value, coords.z.value) )   # most likely value\n",
    "vel_GC_ML = np.column_stack( (coords.v_x.value, coords.v_y.value, coords.v_z.value) )   # most likely value\n",
    "dis_GC_ML = np.sqrt( (pos_GC_ML**2).sum(axis=1) )\n",
    "order = dis_GC_ML.argsort()\n",
    "\n",
    "sat_names = np.array( [name.strip() for name in data['GalaxyName'][sel_valid]] )[order]\n",
    "pos_GC_ML = pos_GC_ML[order]\n",
    "vel_GC_ML = vel_GC_ML[order]\n",
    "dis_GC_ML = dis_GC_ML[order]\n",
    "\n",
    "print( \"The most likely (pos,vel) of the satellites:\" )\n",
    "\n",
    "p = pos_GC_ML * u.kpc\n",
    "d = dis_GC_ML * u.kpc\n",
    "v = vel_GC_ML * u.km / u.s\n",
    "t = QTable( (sat_names, p[:,0],p[:,1],p[:,2], d, v[:,0],v[:,1],v[:,2]), \n",
    "          names=['Name', 'x_ML','y_ML','z_ML', 'dis_ML', 'Vx_ML','Vy_ML','Vz_ML'] )\n",
    "\n",
    "# show only a few decimal digits\n",
    "for col in t.colnames:\n",
    "    if col=='Name': continue\n",
    "    t[col] = np.round( t[col], decimals=2)\n",
    "\n",
    "t.show_in_notebook()"
   ]
  },
  {
   "cell_type": "markdown",
   "metadata": {},
   "source": [
    "### Code for generating the Monte Carlo samples"
   ]
  },
  {
   "cell_type": "code",
   "execution_count": 10,
   "metadata": {},
   "outputs": [],
   "source": [
    "# loop over the number of MC realizations and for each one obtain a set of positions and velocities w.r.t. the Galactic Centre\n",
    "number_MC = 1000  # number of Monte Carlo realizations\n",
    "numSats = sel_valid.sum()\n",
    "\n",
    "# arrays for storing the final satellite positions and velocities in GC reference frame\n",
    "pos_GC = np.empty( (number_MC,numSats,3), np.float64 )\n",
    "vel_GC = np.empty( (number_MC,numSats,3), np.float64 )\n",
    "\n",
    "\n",
    "# generate MC samples for the satellite observables\n",
    "sat_dist = np.empty( (number_MC,numSats), np.float64 )\n",
    "sat_radV = np.empty( (number_MC,numSats), np.float64 )\n",
    "sat_pmra = np.empty( (number_MC,numSats), np.float64 )\n",
    "sat_pmdec= np.empty( (number_MC,numSats), np.float64 )\n",
    "sat_index= np.arange(numSats_total)[sel_valid]\n",
    "for i in range(numSats):\n",
    "    index = sat_index[i]\n",
    "    \n",
    "    edmod = 0.5 * (data['dmod+'][index] + data['dmod-'][index])\n",
    "    dist_mod = np.random.normal( loc=data['dmod'][index], scale=edmod, size=number_MC )\n",
    "    sat_dist[:,i] = coord.Distance( distmod=dist_mod, unit=u.kpc).value\n",
    "    \n",
    "    evh = 0.5 * (data['vh+'][index] + data['vh-'][index])\n",
    "    sat_radV[:,i] = np.random.normal( loc=data['vh'][index], scale=evh, size=number_MC )\n",
    "    \n",
    "    epmra = 0.5 * (data['epmra+'][index] + data['epmra-'][index])\n",
    "    sat_pmra[:,i] = np.random.normal( loc=data['pmra'][index], scale=epmra, size=number_MC )\n",
    "    \n",
    "    epmdec = 0.5 * (data['epmdec+'][index] + data['epmdec-'][index])\n",
    "    sat_pmdec[:,i] = np.random.normal( loc=data['pmdec'][index], scale=epmdec, size=number_MC )\n",
    "\n",
    "\n",
    "# generate MC samples for the Sun's position and velocity\n",
    "Sun_R = np.random.normal( loc=sun_R[0], scale=sun_R[1], size=number_MC )\n",
    "Sun_z = np.random.normal( loc=sun_z[0], scale=sun_z[1], size=number_MC )\n",
    "Sun_U = np.random.normal( loc=sun_LSR[0,0], scale=sun_LSR[0,1], size=number_MC )\n",
    "Sun_V = np.random.normal( loc=sun_LSR[1,0], scale=sun_LSR[1,1], size=number_MC ) + np.random.normal( loc=sun_vCirc[0], scale=sun_vCirc[1], size=number_MC )\n",
    "Sun_W = np.random.normal( loc=sun_LSR[2,0], scale=sun_LSR[2,1], size=number_MC )\n",
    "Sun_vel = np.column_stack( (Sun_U,Sun_V,Sun_W) )\n",
    "\n",
    "\n",
    "# transform from solar to galactic coordinates\n",
    "for i in range(number_MC):\n",
    "    coords = satellite_phase_space_wrt_GC( ra=data['RA'][sel_valid], dec=data['Dec'][sel_valid], \\\n",
    "                                          dist=sat_dist[i], rad_vel=sat_radV[i], \\\n",
    "                                          pmra=sat_pmra[i], pmdec =sat_pmdec[i], \\\n",
    "                                          Sun_R=Sun_R[i], Sun_z=Sun_z[i], Sun_vel=Sun_vel[i] )\n",
    "    pos_GC[i,] = np.column_stack( (coords.x.value, coords.y.value, coords.z.value) )[order]\n",
    "    vel_GC[i,] = np.column_stack( (coords.v_x.value, coords.v_y.value, coords.v_z.value) )[order]\n",
    "    "
   ]
  },
  {
   "cell_type": "markdown",
   "metadata": {},
   "source": [
    "### Save the MC samples"
   ]
  },
  {
   "cell_type": "code",
   "execution_count": 11,
   "metadata": {},
   "outputs": [],
   "source": [
    "# output the satellite data to an hdf5 file\n",
    "outfile = \"data_output/MW_sats_MC_samples.npz\"\n",
    "np.savez( outfile, satellite_names=sat_names, positions_GC=pos_GC, velocities_GC=vel_GC, \\\n",
    "         positions_GC_ML=pos_GC_ML, velocities_GC_ML=vel_GC_ML, distances_GC_ML=dis_GC_ML )\n",
    "\n",
    "import h5py\n",
    "outfile = \"data_output/MW_sats_MC_samples.hdf5\"\n",
    "with h5py.File( outfile, 'w' ) as hf:\n",
    "    hf.create_dataset( 'satellite_names'  , data=np.array(sat_names,dtype='S') )\n",
    "    \n",
    "    # write the data of hosts with LMC\n",
    "    g1 = hf.create_group( \"Monte_Carlo_realizations\" )\n",
    "    g1.create_dataset( 'MC_pos'  , data=pos_GC, dtype='f8' )\n",
    "    g1.create_dataset( 'MC_vel'  , data=vel_GC, dtype='f8' )\n",
    "    \n",
    "    g1 = hf.create_group( \"most_likely_values\" )\n",
    "    g1.create_dataset( 'pos'  , data=pos_GC_ML, dtype='f8' )\n",
    "    g1.create_dataset( 'vel'  , data=vel_GC_ML, dtype='f8' )\n",
    "    g1.create_dataset( 'dis'  , data=dis_GC_ML, dtype='f8' )\n",
    "    \n",
    "    # write the data of satellites around the desired hosts\n",
    "    g2 = hf.create_group( \"Observable_data\" )\n",
    "    g2.create_dataset( 'sat_dist'  , data=sat_dist, dtype='f4' )\n",
    "    g2.create_dataset( 'sat_radV'  , data=sat_radV, dtype='f4' )\n",
    "    g2.create_dataset( 'sat_pmra'  , data=sat_pmra, dtype='f4' )\n",
    "    g2.create_dataset( 'sat_pmdec' , data=sat_pmdec, dtype='f4' )\n",
    "    g2.create_dataset( 'Sun_R'   , data=Sun_R, dtype='f4' )\n",
    "    g2.create_dataset( 'Sun_z'   , data=Sun_z, dtype='f4' )\n",
    "    g2.create_dataset( 'Sun_vel' , data=Sun_vel, dtype='f4' )\n",
    "    \n",
    "    grp = hf.create_group( \"metadata\" )\n",
    "    grp.attrs[\"units\"]     = np.string_( \"Positions: kpc;  Velocities: km/s\" )\n",
    "    grp.attrs[\"num_Monte_Carlos\"] = pos_GC.shape[0]\n",
    "    grp.attrs[\"num_satellites\"]   = pos_GC.shape[1]\n",
    "    grp.attrs[\"program_options\"]  = \"Obtained using the 'MW_satellites_errors.ipynb' jupyter notebook\""
   ]
  },
  {
   "cell_type": "markdown",
   "metadata": {},
   "source": [
    "## Example on how to read the hdf5 data"
   ]
  },
  {
   "cell_type": "code",
   "execution_count": 12,
   "metadata": {},
   "outputs": [
    {
     "name": "stdout",
     "output_type": "stream",
     "text": [
      "The file contains 1000 Monte Carlo samples for each satellite (there are 48 satellites).\n"
     ]
    }
   ],
   "source": [
    "infile = \"data_output/MW_sats_MC_samples.hdf5\"\n",
    "import h5py\n",
    "with h5py.File( infile, 'r' ) as hf:\n",
    "    # satellite names\n",
    "    sat_names = np.array( hf['satellite_names'] )\n",
    "    \n",
    "    # the MC samples\n",
    "    pos_GC = np.array( hf['Monte_Carlo_realizations/MC_pos'] )\n",
    "    vel_GC = np.array( hf['Monte_Carlo_realizations/MC_vel'] )\n",
    "    \n",
    "    # the maximum likelihood (ML) values\n",
    "    pos_GC_ML = np.array( hf['most_likely_values/pos'] )\n",
    "    vel_GC_ML = np.array( hf['most_likely_values/vel'] )\n",
    "    dis_GC_ML = np.array( hf['most_likely_values/dis'] )\n",
    "\n",
    "# the number of MC samples and of satellites\n",
    "number_MC = pos_GC.shape[0]  # number of MC realizations\n",
    "numSats = pos_GC.shape[1]\n",
    "\n",
    "if sat_names.shape[0] != numSats: \n",
    "    print( \"~~~~ ERROR ~~~~ reading the hdf5 file. Found %i satellite names and %i satellites in the Monte Carlo sample. The two should be the same but aren't!\" % (sat_names.shape[0], numSats) )\n",
    "if pos_GC_ML.shape[0] != numSats: \n",
    "    print( \"~~~~ ERROR ~~~~ reading the hdf5 file. Found %i satellites with maximum likelihood values and %i satellites in the Monte Carlo sample. The two should be the same but aren't!\" % (pos_GC_ML.shape[0],numSats) )\n",
    "print( \"The file contains %i Monte Carlo samples for each satellite (there are %i satellites).\" % (number_MC, numSats) )"
   ]
  },
  {
   "cell_type": "markdown",
   "metadata": {},
   "source": [
    "## Printing the maximum likelihood (ML) position and velocity of satellites"
   ]
  },
  {
   "cell_type": "code",
   "execution_count": 13,
   "metadata": {},
   "outputs": [
    {
     "data": {
      "text/html": [
       "<i>QTable length=48</i>\n",
       "<table id=\"table4798880016-543589\" class=\"table-striped table-bordered table-condensed\">\n",
       "<thead><tr><th>idx</th><th>Name</th><th>x_ML</th><th>y_ML</th><th>z_ML</th><th>dis_ML</th><th>Vx_ML</th><th>Vy_ML</th><th>Vz_ML</th></tr></thead>\n",
       "<thead><tr><th></th><th></th><th>kpc</th><th>kpc</th><th>kpc</th><th>kpc</th><th>km / s</th><th>km / s</th><th>km / s</th></tr></thead>\n",
       "<tr><td>0</td><td>SagittariusdSph</td><td>17.19</td><td>2.47</td><td>-6.48</td><td>18.54</td><td>233.36</td><td>-21.62</td><td>205.89</td></tr>\n",
       "<tr><td>1</td><td>*Tucana3</td><td>1.77</td><td>-9.87</td><td>-20.97</td><td>23.24</td><td>33.85</td><td>134.18</td><td>194.01</td></tr>\n",
       "<tr><td>2</td><td>*Draco2</td><td>-10.42</td><td>15.65</td><td>14.71</td><td>23.87</td><td>8.0</td><td>90.85</td><td>-330.09</td></tr>\n",
       "<tr><td>3</td><td>Hydrus1</td><td>1.94</td><td>-19.59</td><td>-16.48</td><td>25.68</td><td>-157.44</td><td>-184.32</td><td>281.65</td></tr>\n",
       "<tr><td>4</td><td>Segue(1)</td><td>-19.24</td><td>-9.47</td><td>17.71</td><td>27.81</td><td>-149.06</td><td>-202.47</td><td>-63.57</td></tr>\n",
       "<tr><td>5</td><td>Carina3</td><td>-8.19</td><td>-26.6</td><td>-8.04</td><td>28.97</td><td>-2.57</td><td>-158.25</td><td>363.39</td></tr>\n",
       "<tr><td>6</td><td>*Reticulum2</td><td>-9.5</td><td>-19.48</td><td>-23.02</td><td>31.62</td><td>19.76</td><td>-95.63</td><td>211.54</td></tr>\n",
       "<tr><td>7</td><td>*Triangulum2</td><td>-29.65</td><td>17.42</td><td>-12.12</td><td>36.46</td><td>225.64</td><td>-19.8</td><td>194.45</td></tr>\n",
       "<tr><td>8</td><td>Carina2</td><td>-8.22</td><td>-34.54</td><td>-10.63</td><td>37.06</td><td>122.01</td><td>-298.48</td><td>156.16</td></tr>\n",
       "<tr><td>9</td><td>UrsaMajor2</td><td>-30.39</td><td>11.61</td><td>19.3</td><td>37.83</td><td>166.78</td><td>-74.16</td><td>188.87</td></tr>\n",
       "<tr><td>10</td><td>Bootes2</td><td>6.85</td><td>-1.65</td><td>38.87</td><td>39.5</td><td>-321.61</td><td>-101.53</td><td>-4.38</td></tr>\n",
       "<tr><td>11</td><td>Segue2</td><td>-31.71</td><td>13.87</td><td>-21.33</td><td>40.66</td><td>-114.29</td><td>41.79</td><td>75.86</td></tr>\n",
       "<tr><td>12</td><td>Willman1</td><td>-27.49</td><td>7.61</td><td>31.87</td><td>42.77</td><td>76.67</td><td>71.74</td><td>74.17</td></tr>\n",
       "<tr><td>13</td><td>ComaBerenices</td><td>-10.36</td><td>-4.28</td><td>43.41</td><td>44.83</td><td>258.25</td><td>-24.8</td><td>91.55</td></tr>\n",
       "<tr><td>14</td><td>*Tucana4</td><td>10.5</td><td>-19.93</td><td>-39.55</td><td>45.52</td><td>21.96</td><td>-116.05</td><td>175.86</td></tr>\n",
       "<tr><td>15</td><td>*Grus2</td><td>23.98</td><td>-5.03</td><td>-41.76</td><td>48.42</td><td>-108.56</td><td>-117.68</td><td>98.46</td></tr>\n",
       "<tr><td>16</td><td>LMC</td><td>-0.53</td><td>-41.77</td><td>-27.47</td><td>49.99</td><td>-40.92</td><td>-221.73</td><td>222.47</td></tr>\n",
       "<tr><td>17</td><td>*Tucana5</td><td>16.35</td><td>-23.53</td><td>-43.48</td><td>52.08</td><td>84.51</td><td>31.79</td><td>211.12</td></tr>\n",
       "<tr><td>18</td><td>Tucana2</td><td>21.56</td><td>-18.59</td><td>-45.6</td><td>53.76</td><td>-237.4</td><td>-90.9</td><td>145.77</td></tr>\n",
       "<tr><td>19</td><td>SMC</td><td>16.51</td><td>-38.49</td><td>-44.72</td><td>61.27</td><td>7.6</td><td>-188.36</td><td>171.59</td></tr>\n",
       "<tr><td>20</td><td>Bootes(1)</td><td>15.07</td><td>-0.77</td><td>62.18</td><td>63.99</td><td>152.94</td><td>-90.15</td><td>55.71</td></tr>\n",
       "<tr><td>21</td><td>*Sagittarius2</td><td>55.46</td><td>21.86</td><td>-28.58</td><td>66.11</td><td>32.12</td><td>-152.29</td><td>202.15</td></tr>\n",
       "<tr><td>22</td><td>Draco</td><td>-4.12</td><td>62.22</td><td>43.22</td><td>75.87</td><td>64.89</td><td>10.06</td><td>-167.6</td></tr>\n",
       "<tr><td>23</td><td>UrsaMinor</td><td>-21.95</td><td>52.0</td><td>53.51</td><td>77.77</td><td>8.5</td><td>56.37</td><td>-158.32</td></tr>\n",
       "<tr><td>24</td><td>*Horologium2</td><td>-14.32</td><td>-45.29</td><td>-63.16</td><td>79.03</td><td>-22.63</td><td>-109.02</td><td>57.47</td></tr>\n",
       "<tr><td>25</td><td>*Horologium1</td><td>-7.23</td><td>-45.85</td><td>-64.84</td><td>79.74</td><td>15.53</td><td>-132.38</td><td>137.32</td></tr>\n",
       "<tr><td>26</td><td>*Phoenix2</td><td>25.41</td><td>-24.82</td><td>-71.91</td><td>80.21</td><td>-19.2</td><td>-238.21</td><td>123.01</td></tr>\n",
       "<tr><td>27</td><td>Sculptor</td><td>-5.3</td><td>-9.76</td><td>-85.28</td><td>86.0</td><td>17.75</td><td>158.23</td><td>-94.56</td></tr>\n",
       "<tr><td>28</td><td>Sextans(1)</td><td>-36.4</td><td>-56.88</td><td>57.87</td><td>88.94</td><td>-205.16</td><td>81.13</td><td>71.62</td></tr>\n",
       "<tr><td>29</td><td>*Reticulum3</td><td>-4.01</td><td>-63.9</td><td>-65.51</td><td>91.6</td><td>-64.2</td><td>-40.98</td><td>-100.16</td></tr>\n",
       "<tr><td>30</td><td>UrsaMajor(1)</td><td>-60.74</td><td>19.8</td><td>78.89</td><td>101.52</td><td>-82.37</td><td>-81.24</td><td>-40.56</td></tr>\n",
       "<tr><td>31</td><td>Aquarius2</td><td>28.66</td><td>53.13</td><td>-86.05</td><td>105.11</td><td>154.12</td><td>48.13</td><td>34.68</td></tr>\n",
       "<tr><td>32</td><td>Carina</td><td>-25.0</td><td>-95.94</td><td>-39.73</td><td>106.8</td><td>-25.68</td><td>-59.89</td><td>173.45</td></tr>\n",
       "<tr><td>33</td><td>Crater2</td><td>11.51</td><td>-85.07</td><td>78.63</td><td>116.41</td><td>19.38</td><td>133.7</td><td>13.41</td></tr>\n",
       "<tr><td>34</td><td>*Grus1</td><td>50.52</td><td>-23.01</td><td>-102.35</td><td>116.44</td><td>-63.83</td><td>107.31</td><td>160.67</td></tr>\n",
       "<tr><td>35</td><td>Hercules</td><td>84.49</td><td>50.69</td><td>78.89</td><td>126.22</td><td>184.93</td><td>99.9</td><td>-26.95</td></tr>\n",
       "<tr><td>36</td><td>Hydra2</td><td>42.03</td><td>-104.36</td><td>67.97</td><td>131.45</td><td>-43.46</td><td>-117.23</td><td>87.19</td></tr>\n",
       "<tr><td>37</td><td>Antlia2</td><td>-19.62</td><td>-128.78</td><td>25.76</td><td>132.79</td><td>-105.78</td><td>-25.69</td><td>80.09</td></tr>\n",
       "<tr><td>38</td><td>Fornax</td><td>-41.47</td><td>-50.97</td><td>-134.03</td><td>149.28</td><td>15.41</td><td>-115.2</td><td>83.13</td></tr>\n",
       "<tr><td>39</td><td>Leo4</td><td>-14.62</td><td>-84.79</td><td>128.62</td><td>154.74</td><td>28.58</td><td>37.89</td><td>28.9</td></tr>\n",
       "<tr><td>40</td><td>CanesVenatici2</td><td>-15.92</td><td>18.62</td><td>158.7</td><td>160.58</td><td>35.51</td><td>0.13</td><td>-92.54</td></tr>\n",
       "<tr><td>41</td><td>Pisces2</td><td>14.8</td><td>122.23</td><td>-133.97</td><td>181.95</td><td>4.53</td><td>-74.61</td><td>21.83</td></tr>\n",
       "<tr><td>42</td><td>*Columba1</td><td>-107.32</td><td>-124.91</td><td>-87.62</td><td>186.54</td><td>178.73</td><td>-97.29</td><td>-10.89</td></tr>\n",
       "<tr><td>43</td><td>Leo5</td><td>-22.24</td><td>-101.21</td><td>167.14</td><td>196.66</td><td>61.45</td><td>-41.92</td><td>39.67</td></tr>\n",
       "<tr><td>44</td><td>*Pegasus3</td><td>44.15</td><td>143.52</td><td>-136.86</td><td>203.17</td><td>5.28</td><td>-54.08</td><td>23.42</td></tr>\n",
       "<tr><td>45</td><td>CanesVenatici(1)</td><td>2.75</td><td>37.04</td><td>214.34</td><td>217.53</td><td>-1.04</td><td>87.27</td><td>66.87</td></tr>\n",
       "<tr><td>46</td><td>Leo2</td><td>-76.66</td><td>-58.25</td><td>215.35</td><td>235.89</td><td>-92.81</td><td>54.87</td><td>6.77</td></tr>\n",
       "<tr><td>47</td><td>Leo1</td><td>-123.01</td><td>-119.34</td><td>191.96</td><td>257.34</td><td>-112.63</td><td>-10.43</td><td>146.32</td></tr>\n",
       "</table><style>table.dataTable {clear: both; width: auto !important; margin: 0 !important;}\n",
       ".dataTables_info, .dataTables_length, .dataTables_filter, .dataTables_paginate{\n",
       "display: inline-block; margin-right: 1em; }\n",
       ".paginate_button { margin-right: 5px; }\n",
       "</style>\n",
       "<script>\n",
       "\n",
       "var astropy_sort_num = function(a, b) {\n",
       "    var a_num = parseFloat(a);\n",
       "    var b_num = parseFloat(b);\n",
       "\n",
       "    if (isNaN(a_num) && isNaN(b_num))\n",
       "        return ((a < b) ? -1 : ((a > b) ? 1 : 0));\n",
       "    else if (!isNaN(a_num) && !isNaN(b_num))\n",
       "        return ((a_num < b_num) ? -1 : ((a_num > b_num) ? 1 : 0));\n",
       "    else\n",
       "        return isNaN(a_num) ? -1 : 1;\n",
       "}\n",
       "\n",
       "require.config({paths: {\n",
       "    datatables: 'https://cdn.datatables.net/1.10.12/js/jquery.dataTables.min'\n",
       "}});\n",
       "require([\"datatables\"], function(){\n",
       "    console.log(\"$('#table4798880016-543589').dataTable()\");\n",
       "    \n",
       "jQuery.extend( jQuery.fn.dataTableExt.oSort, {\n",
       "    \"optionalnum-asc\": astropy_sort_num,\n",
       "    \"optionalnum-desc\": function (a,b) { return -astropy_sort_num(a, b); }\n",
       "});\n",
       "\n",
       "    $('#table4798880016-543589').dataTable({\n",
       "        order: [],\n",
       "        pageLength: 50,\n",
       "        lengthMenu: [[10, 25, 50, 100, 500, 1000, -1], [10, 25, 50, 100, 500, 1000, 'All']],\n",
       "        pagingType: \"full_numbers\",\n",
       "        columnDefs: [{targets: [0, 2, 3, 4, 5, 6, 7, 8], type: \"optionalnum\"}]\n",
       "    });\n",
       "});\n",
       "</script>\n"
      ],
      "text/plain": [
       "<IPython.core.display.HTML object>"
      ]
     },
     "execution_count": 13,
     "metadata": {},
     "output_type": "execute_result"
    }
   ],
   "source": [
    "from astropy.table import QTable\n",
    "from astropy import units as u\n",
    "\n",
    "p = pos_GC_ML * u.kpc\n",
    "d = dis_GC_ML * u.kpc\n",
    "v = vel_GC_ML * u.km / u.s\n",
    "t = QTable( (sat_names, p[:,0],p[:,1],p[:,2], d, v[:,0],v[:,1],v[:,2]), \n",
    "          names=['Name', 'x_ML','y_ML','z_ML', 'dis_ML', 'Vx_ML','Vy_ML','Vz_ML'] )\n",
    "\n",
    "# show only a few decimal digits\n",
    "for col in t.colnames:\n",
    "    if col=='Name': continue\n",
    "    t[col] = np.round( t[col], decimals=2)\n",
    "\n",
    "t.show_in_notebook()"
   ]
  },
  {
   "cell_type": "markdown",
   "metadata": {},
   "source": [
    "## Printing the mean position and velocity of satellites"
   ]
  },
  {
   "cell_type": "code",
   "execution_count": 14,
   "metadata": {},
   "outputs": [
    {
     "data": {
      "text/html": [
       "<i>QTable length=48</i>\n",
       "<table id=\"table4799297360-343615\" class=\"table-striped table-bordered table-condensed\">\n",
       "<thead><tr><th>idx</th><th>Name</th><th>x_mean</th><th>y_mean</th><th>z_mean</th><th>dis_mean</th><th>Vx_mean</th><th>Vy_mean</th><th>Vz_mean</th></tr></thead>\n",
       "<thead><tr><th></th><th></th><th>kpc</th><th>kpc</th><th>kpc</th><th>kpc</th><th>km / s</th><th>km / s</th><th>km / s</th></tr></thead>\n",
       "<tr><td>0</td><td>SagittariusdSph</td><td>17.15</td><td>2.47</td><td>-6.47</td><td>18.49</td><td>233.26</td><td>-21.06</td><td>205.48</td></tr>\n",
       "<tr><td>1</td><td>*Tucana3</td><td>1.79</td><td>-9.89</td><td>-21.01</td><td>23.29</td><td>33.88</td><td>134.0</td><td>194.26</td></tr>\n",
       "<tr><td>2</td><td>*Draco2</td><td>-10.42</td><td>15.66</td><td>14.72</td><td>23.88</td><td>8.14</td><td>90.95</td><td>-330.13</td></tr>\n",
       "<tr><td>3</td><td>Hydrus1</td><td>1.94</td><td>-19.59</td><td>-16.48</td><td>25.68</td><td>-157.43</td><td>-184.15</td><td>281.64</td></tr>\n",
       "<tr><td>4</td><td>Segue(1)</td><td>-19.29</td><td>-9.52</td><td>17.79</td><td>27.91</td><td>-149.29</td><td>-204.09</td><td>-64.6</td></tr>\n",
       "<tr><td>5</td><td>Carina3</td><td>-8.2</td><td>-26.6</td><td>-8.03</td><td>28.97</td><td>-2.63</td><td>-158.2</td><td>363.3</td></tr>\n",
       "<tr><td>6</td><td>*Reticulum2</td><td>-9.5</td><td>-19.5</td><td>-23.04</td><td>31.64</td><td>19.81</td><td>-95.83</td><td>211.79</td></tr>\n",
       "<tr><td>7</td><td>*Triangulum2</td><td>-29.7</td><td>17.47</td><td>-12.15</td><td>36.54</td><td>225.24</td><td>-19.93</td><td>195.13</td></tr>\n",
       "<tr><td>8</td><td>Carina2</td><td>-8.22</td><td>-34.53</td><td>-10.63</td><td>37.05</td><td>121.94</td><td>-298.36</td><td>156.13</td></tr>\n",
       "<tr><td>9</td><td>UrsaMajor2</td><td>-30.83</td><td>11.84</td><td>19.68</td><td>38.45</td><td>168.36</td><td>-79.35</td><td>193.63</td></tr>\n",
       "<tr><td>10</td><td>Bootes2</td><td>6.85</td><td>-1.65</td><td>38.84</td><td>39.47</td><td>-321.27</td><td>-100.76</td><td>-4.08</td></tr>\n",
       "<tr><td>11</td><td>Segue2</td><td>-31.75</td><td>13.89</td><td>-21.37</td><td>40.72</td><td>-114.82</td><td>41.69</td><td>76.12</td></tr>\n",
       "<tr><td>12</td><td>Willman1</td><td>-27.89</td><td>7.77</td><td>32.54</td><td>43.55</td><td>77.95</td><td>67.77</td><td>76.05</td></tr>\n",
       "<tr><td>13</td><td>ComaBerenices</td><td>-10.36</td><td>-4.29</td><td>43.5</td><td>44.92</td><td>258.71</td><td>-25.34</td><td>91.46</td></tr>\n",
       "<tr><td>14</td><td>*Tucana4</td><td>10.59</td><td>-20.04</td><td>-39.77</td><td>45.77</td><td>22.11</td><td>-117.59</td><td>176.71</td></tr>\n",
       "<tr><td>15</td><td>*Grus2</td><td>24.35</td><td>-5.09</td><td>-42.24</td><td>49.02</td><td>-109.34</td><td>-121.57</td><td>98.36</td></tr>\n",
       "<tr><td>16</td><td>LMC</td><td>-0.52</td><td>-41.82</td><td>-27.5</td><td>50.05</td><td>-40.87</td><td>-221.76</td><td>222.81</td></tr>\n",
       "<tr><td>17</td><td>*Tucana5</td><td>16.73</td><td>-23.9</td><td>-44.16</td><td>52.92</td><td>85.62</td><td>28.06</td><td>213.8</td></tr>\n",
       "<tr><td>18</td><td>Tucana2</td><td>21.61</td><td>-18.62</td><td>-45.68</td><td>53.85</td><td>-237.77</td><td>-91.52</td><td>145.76</td></tr>\n",
       "<tr><td>19</td><td>SMC</td><td>16.52</td><td>-38.5</td><td>-44.74</td><td>61.29</td><td>7.83</td><td>-188.41</td><td>171.84</td></tr>\n",
       "<tr><td>20</td><td>Bootes(1)</td><td>15.09</td><td>-0.77</td><td>62.21</td><td>64.02</td><td>152.76</td><td>-90.21</td><td>55.64</td></tr>\n",
       "<tr><td>21</td><td>*Sagittarius2</td><td>55.46</td><td>21.86</td><td>-28.59</td><td>66.12</td><td>32.26</td><td>-152.14</td><td>202.33</td></tr>\n",
       "<tr><td>22</td><td>Draco</td><td>-4.09</td><td>62.64</td><td>43.51</td><td>76.37</td><td>65.29</td><td>10.21</td><td>-167.72</td></tr>\n",
       "<tr><td>23</td><td>UrsaMinor</td><td>-21.96</td><td>52.08</td><td>53.59</td><td>77.89</td><td>8.36</td><td>56.42</td><td>-158.28</td></tr>\n",
       "<tr><td>24</td><td>*Horologium2</td><td>-14.33</td><td>-45.36</td><td>-63.25</td><td>79.14</td><td>-22.8</td><td>-111.17</td><td>58.68</td></tr>\n",
       "<tr><td>25</td><td>*Horologium1</td><td>-7.23</td><td>-46.13</td><td>-65.23</td><td>80.22</td><td>15.73</td><td>-134.02</td><td>138.55</td></tr>\n",
       "<tr><td>26</td><td>*Phoenix2</td><td>25.59</td><td>-24.95</td><td>-72.31</td><td>80.66</td><td>-19.77</td><td>-240.48</td><td>123.36</td></tr>\n",
       "<tr><td>27</td><td>Sculptor</td><td>-5.31</td><td>-9.77</td><td>-85.38</td><td>86.1</td><td>17.71</td><td>158.29</td><td>-94.56</td></tr>\n",
       "<tr><td>28</td><td>Sextans(1)</td><td>-36.46</td><td>-57.01</td><td>58.01</td><td>89.13</td><td>-205.67</td><td>81.22</td><td>71.37</td></tr>\n",
       "<tr><td>29</td><td>*Reticulum3</td><td>-3.97</td><td>-64.59</td><td>-66.21</td><td>92.58</td><td>-65.55</td><td>-41.98</td><td>-98.88</td></tr>\n",
       "<tr><td>30</td><td>UrsaMajor(1)</td><td>-60.78</td><td>19.81</td><td>78.97</td><td>101.6</td><td>-82.84</td><td>-81.6</td><td>-40.68</td></tr>\n",
       "<tr><td>31</td><td>Aquarius2</td><td>28.65</td><td>53.12</td><td>-86.04</td><td>105.1</td><td>152.3</td><td>47.72</td><td>33.58</td></tr>\n",
       "<tr><td>32</td><td>Carina</td><td>-25.03</td><td>-96.08</td><td>-39.78</td><td>106.96</td><td>-25.84</td><td>-59.82</td><td>173.62</td></tr>\n",
       "<tr><td>33</td><td>Crater2</td><td>11.52</td><td>-85.06</td><td>78.62</td><td>116.39</td><td>19.22</td><td>133.91</td><td>13.56</td></tr>\n",
       "<tr><td>34</td><td>*Grus1</td><td>50.85</td><td>-23.14</td><td>-102.96</td><td>117.14</td><td>-62.48</td><td>105.94</td><td>161.67</td></tr>\n",
       "<tr><td>35</td><td>Hercules</td><td>84.45</td><td>50.66</td><td>78.84</td><td>126.15</td><td>184.59</td><td>99.63</td><td>-26.31</td></tr>\n",
       "<tr><td>36</td><td>Hydra2</td><td>42.12</td><td>-104.54</td><td>68.09</td><td>131.68</td><td>-43.6</td><td>-117.13</td><td>87.25</td></tr>\n",
       "<tr><td>37</td><td>Antlia2</td><td>-19.62</td><td>-128.85</td><td>25.78</td><td>132.86</td><td>-106.03</td><td>-25.55</td><td>80.2</td></tr>\n",
       "<tr><td>38</td><td>Fornax</td><td>-41.42</td><td>-50.86</td><td>-133.76</td><td>148.97</td><td>15.37</td><td>-114.38</td><td>82.87</td></tr>\n",
       "<tr><td>39</td><td>Leo4</td><td>-14.61</td><td>-84.74</td><td>128.55</td><td>154.66</td><td>26.67</td><td>39.34</td><td>29.66</td></tr>\n",
       "<tr><td>40</td><td>CanesVenatici2</td><td>-15.89</td><td>18.61</td><td>158.58</td><td>160.46</td><td>35.76</td><td>-2.47</td><td>-92.2</td></tr>\n",
       "<tr><td>41</td><td>Pisces2</td><td>14.87</td><td>122.69</td><td>-134.48</td><td>182.65</td><td>8.65</td><td>-73.54</td><td>23.3</td></tr>\n",
       "<tr><td>42</td><td>*Columba1</td><td>-107.83</td><td>-125.54</td><td>-88.06</td><td>187.47</td><td>181.53</td><td>-99.34</td><td>-11.49</td></tr>\n",
       "<tr><td>43</td><td>Leo5</td><td>-22.22</td><td>-101.16</td><td>167.07</td><td>196.57</td><td>64.11</td><td>-43.64</td><td>38.71</td></tr>\n",
       "<tr><td>44</td><td>*Pegasus3</td><td>44.44</td><td>144.36</td><td>-137.67</td><td>204.37</td><td>6.91</td><td>-57.79</td><td>20.05</td></tr>\n",
       "<tr><td>45</td><td>CanesVenatici(1)</td><td>2.76</td><td>36.99</td><td>214.01</td><td>217.2</td><td>-0.9</td><td>86.74</td><td>66.99</td></tr>\n",
       "<tr><td>46</td><td>Leo2</td><td>-76.78</td><td>-58.38</td><td>215.81</td><td>236.39</td><td>-92.91</td><td>54.51</td><td>6.62</td></tr>\n",
       "<tr><td>47</td><td>Leo1</td><td>-123.79</td><td>-120.17</td><td>193.3</td><td>259.09</td><td>-112.59</td><td>-10.81</td><td>146.06</td></tr>\n",
       "</table><style>table.dataTable {clear: both; width: auto !important; margin: 0 !important;}\n",
       ".dataTables_info, .dataTables_length, .dataTables_filter, .dataTables_paginate{\n",
       "display: inline-block; margin-right: 1em; }\n",
       ".paginate_button { margin-right: 5px; }\n",
       "</style>\n",
       "<script>\n",
       "\n",
       "var astropy_sort_num = function(a, b) {\n",
       "    var a_num = parseFloat(a);\n",
       "    var b_num = parseFloat(b);\n",
       "\n",
       "    if (isNaN(a_num) && isNaN(b_num))\n",
       "        return ((a < b) ? -1 : ((a > b) ? 1 : 0));\n",
       "    else if (!isNaN(a_num) && !isNaN(b_num))\n",
       "        return ((a_num < b_num) ? -1 : ((a_num > b_num) ? 1 : 0));\n",
       "    else\n",
       "        return isNaN(a_num) ? -1 : 1;\n",
       "}\n",
       "\n",
       "require.config({paths: {\n",
       "    datatables: 'https://cdn.datatables.net/1.10.12/js/jquery.dataTables.min'\n",
       "}});\n",
       "require([\"datatables\"], function(){\n",
       "    console.log(\"$('#table4799297360-343615').dataTable()\");\n",
       "    \n",
       "jQuery.extend( jQuery.fn.dataTableExt.oSort, {\n",
       "    \"optionalnum-asc\": astropy_sort_num,\n",
       "    \"optionalnum-desc\": function (a,b) { return -astropy_sort_num(a, b); }\n",
       "});\n",
       "\n",
       "    $('#table4799297360-343615').dataTable({\n",
       "        order: [],\n",
       "        pageLength: 50,\n",
       "        lengthMenu: [[10, 25, 50, 100, 500, 1000, -1], [10, 25, 50, 100, 500, 1000, 'All']],\n",
       "        pagingType: \"full_numbers\",\n",
       "        columnDefs: [{targets: [0, 2, 3, 4, 5, 6, 7, 8], type: \"optionalnum\"}]\n",
       "    });\n",
       "});\n",
       "</script>\n"
      ],
      "text/plain": [
       "<IPython.core.display.HTML object>"
      ]
     },
     "execution_count": 14,
     "metadata": {},
     "output_type": "execute_result"
    }
   ],
   "source": [
    "p = pos_GC.mean(axis=0) * u.kpc\n",
    "d = np.sqrt( (p**2).sum(axis=1) )\n",
    "v = vel_GC.mean(axis=0) * u.km / u.s\n",
    "t = QTable( (sat_names, p[:,0],p[:,1],p[:,2], d, v[:,0],v[:,1],v[:,2]), \n",
    "          names=['Name', 'x_mean','y_mean','z_mean', 'dis_mean', 'Vx_mean','Vy_mean','Vz_mean'] )\n",
    "\n",
    "# show only a few decimal digits\n",
    "for col in t.colnames:\n",
    "    if col=='Name': continue\n",
    "    t[col] = np.round( t[col], decimals=2)\n",
    "\n",
    "t.show_in_notebook()"
   ]
  },
  {
   "cell_type": "markdown",
   "metadata": {},
   "source": [
    "### A quick check of the position and velocity percentage error"
   ]
  },
  {
   "cell_type": "code",
   "execution_count": 15,
   "metadata": {},
   "outputs": [
    {
     "name": "stdout",
     "output_type": "stream",
     "text": [
      "Uncertainties in the coordinates and velocities of the satellites (in percentage):\n",
      "                  x     y     z     v_x   v_y   v_z\n",
      "b'SagittariusdSph'   9.65  0.94  2.48  2.08  6.39  5.27  \n",
      "    b'*Tucana3'   3.05  3.02  6.43  2.04  4.72  3.20  \n",
      "     b'*Draco2'   0.25  1.52  1.43  2.38  1.72  1.86  \n",
      "     b'Hydrus1'   0.73  1.39  1.17  1.07  1.92  1.61  \n",
      "    b'Segue(1)'   3.62  3.11  5.81  3.03  12.81  8.22  \n",
      "     b'Carina3'   0.08  4.27  1.30  2.03  1.88  5.46  \n",
      " b'*Reticulum2'   0.39  5.51  6.52  1.28  11.59  9.78  \n",
      "b'*Triangulum2'   2.82  2.28  1.59  1.84  2.26  2.65  \n",
      "     b'Carina2'   0.07  2.16  0.67  1.12  0.89  2.00  \n",
      "  b'UrsaMajor2'   8.42  4.40  7.32  4.17  15.32  13.89  \n",
      "     b'Bootes2'   1.10  0.12  2.81  4.95  5.33  2.35  \n",
      "      b'Segue2'   2.60  1.53  2.36  5.97  7.01  4.15  \n",
      "    b'Willman1'   8.46  3.33  13.96  11.64  28.68  12.72  \n",
      "b'ComaBerenices'   0.48  0.92  9.31  9.00  9.35  0.62  \n",
      "    b'*Tucana4'   3.49  3.72  7.38  6.28  15.80  8.61  \n",
      "      b'*Grus2'   6.50  1.02  8.45  4.27  20.22  2.51  \n",
      "         b'LMC'   0.63  3.40  2.24  2.53  3.67  5.11  \n",
      "    b'*Tucana5'   7.75  7.44  13.76  8.58  17.95  13.38  \n",
      "     b'Tucana2'   5.17  3.23  7.93  6.07  12.29  1.90  \n",
      "         b'SMC'   2.29  3.57  4.15  3.53  8.20  6.52  \n",
      "   b'Bootes(1)'   1.34  0.04  3.60  2.72  6.97  1.47  \n",
      "b'*Sagittarius2'   1.11  0.38  0.51  2.09  3.09  3.63  \n",
      "       b'Draco'   0.42  6.38  4.43  3.57  1.18  0.90  \n",
      "   b'UrsaMinor'   0.83  3.12  3.21  1.58  1.39  0.70  \n",
      "b'*Horologium2'   0.73  5.34  7.45  66.34  61.28  44.48  \n",
      "b'*Horologium1'   0.15  5.61  7.93  5.99  16.57  11.76  \n",
      "   b'*Phoenix2'   3.87  2.86  8.29  5.91  17.86  6.27  \n",
      "    b'Sculptor'   0.26  0.75  6.57  0.61  2.93  0.37  \n",
      "  b'Sextans(1)'   1.43  2.89  2.94  3.26  1.59  2.14  \n",
      " b'*Reticulum3'   0.65  9.81  10.06  76.03  42.61  42.88  \n",
      "b'UrsaMajor(1)'   2.36  0.89  3.55  10.52  16.14  6.44  \n",
      "   b'Aquarius2'   1.15  1.66  2.69  28.27  21.84  17.44  \n",
      "      b'Carina'   0.98  5.60  2.32  2.75  3.73  8.79  \n",
      "     b'Crater2'   0.18  0.68  0.63  7.25  4.41  3.57  \n",
      "      b'*Grus1'   4.75  1.86  8.28  12.38  19.20  8.19  \n",
      "    b'Hercules'   6.85  3.75  5.83  9.03  11.80  9.53  \n",
      "      b'Hydra2'   2.81  5.83  3.79  38.92  26.42  32.03  \n",
      "     b'Antlia2'   0.45  5.10  1.02  5.92  1.79  4.65  \n",
      "      b'Fornax'   1.81  2.76  7.26  1.32  19.55  7.16  \n",
      "        b'Leo4'   0.20  2.30  3.49  118.23  91.22  60.89  \n",
      "b'CanesVenatici2'   0.18  0.32  2.73  52.22  49.91  6.21  \n",
      "     b'Pisces2'   1.01  5.37  5.89  123.47  96.23  86.44  \n",
      "   b'*Columba1'   5.21  6.56  4.61  24.61  21.67  23.03  \n",
      "        b'Leo5'   0.55  3.90  6.45  94.59  84.91  52.29  \n",
      "   b'*Pegasus3'   2.47  6.77  6.46  156.02  119.99  126.01  \n",
      "b'CanesVenatici(1)'   0.25  0.76  4.41  18.16  19.53  3.57  \n",
      "        b'Leo2'   1.79  1.53  5.64  20.06  21.69  8.84  \n",
      "        b'Leo1'   2.80  2.92  4.69  5.94  7.50  5.16  \n"
     ]
    }
   ],
   "source": [
    "velM_ML = (vel_GC_ML**2).sum(axis=1)**0.5\n",
    "\n",
    "out = np.column_stack( (pos_GC.std(axis=0)/dis_GC_ML[:,None], vel_GC.std(axis=0)/velM_ML[:,None]) ) * 100.\n",
    "\n",
    "print(\"Uncertainties in the coordinates and velocities of the satellites (in percentage):\")\n",
    "print(\"                  x     y     z     v_x   v_y   v_z\")\n",
    "for i in range( len(sat_names) ):\n",
    "    print( \"%15s   \" % sat_names[i], end=\"\" )\n",
    "    for j in range(6):\n",
    "        print(\"%.2f  \" % out[i,j], end=\"\")\n",
    "    print()\n",
    "# print( np.column_stack( (sat_names, pos_GC.std(axis=0)/dis_GC_ML[:,None], vel_GC.std(axis=0)/velM_ML[:,None]) ) )\n"
   ]
  },
  {
   "cell_type": "markdown",
   "metadata": {},
   "source": [
    "# Generate only the 68 percentile MC samples  \n",
    "  \n",
    "Do so by generating MC samples for each satellite and keeping only the 68% with the highest likelihood for each satellite."
   ]
  },
  {
   "cell_type": "code",
   "execution_count": 16,
   "metadata": {},
   "outputs": [
    {
     "data": {
      "text/plain": [
       "(array([8.18604155, 8.20074215, 8.1504444 , 8.1902025 , 8.18697126,\n",
       "        8.17146455, 8.15520933, 8.17415009, 8.16623629, 8.17458357]),\n",
       " array([0.01062201, 0.02348612, 0.01336207, 0.0313186 , 0.02028514,\n",
       "        0.00773789, 0.02294017, 0.03312582, 0.02040467, 0.00133028]),\n",
       " array([[ 10.1724257 , 245.32610363,   7.21610372],\n",
       "        [  9.78265267, 246.99290968,   7.61575152],\n",
       "        [ 11.58054312, 247.79443291,   7.25548596],\n",
       "        [ 10.77514037, 245.18950237,   7.17097926],\n",
       "        [ 11.17821903, 249.1155898 ,   7.2102583 ],\n",
       "        [ 10.47593635, 245.18243881,   6.99569865],\n",
       "        [ 10.68344831, 246.86114809,   7.06258443],\n",
       "        [ 11.92478541, 249.60494533,   6.86069705],\n",
       "        [ 11.19199278, 247.56767734,   6.70282769],\n",
       "        [ 12.02057791, 247.05434017,   7.61536301]]))"
      ]
     },
     "execution_count": 16,
     "metadata": {},
     "output_type": "execute_result"
    }
   ],
   "source": [
    "# function to generate MC and calculate the likelihood for each variable\n",
    "def MC_samples_and_loglikelihood(N,mean,sigma):\n",
    "    _samples = np.random.normal( loc=mean, scale=sigma, size=N )\n",
    "    _loglikelihood = -0.5 * (_samples-mean)**2 / sigma**2\n",
    "    return _samples, _loglikelihood\n",
    "\n",
    "\n",
    "# function to generate the required percentile MC samples\n",
    "def generate_MC_percentiles_satellites(percentile,N,index):\n",
    "    N2 = int(N / (percentile/100)) # to obtain N samples that correspond to the 'percentile' percentage of the distribution we need to generate 'N2' samples\n",
    "    \n",
    "    _edmod = 0.5 * (data['dmod+'][index] + data['dmod-'][index])\n",
    "    _dist_mod, _logL_dist = MC_samples_and_loglikelihood( N2, data['dmod'][index], _edmod )\n",
    "    _sat_dist = coord.Distance( distmod=_dist_mod, unit=u.kpc).value\n",
    "    \n",
    "    _evh = 0.5 * (data['vh+'][index] + data['vh-'][index])\n",
    "    _sat_radV, _logL_radV = MC_samples_and_loglikelihood( N2, data['vh'][index], _evh )\n",
    "    \n",
    "    _epmra = 0.5 * (data['epmra+'][index] + data['epmra-'][index])\n",
    "    _sat_pmra, _logL_pmra = MC_samples_and_loglikelihood( N2, data['pmra'][index], _epmra )\n",
    "    \n",
    "    _epmdec = 0.5 * (data['epmdec+'][index] + data['epmdec-'][index])\n",
    "    _sat_pmdec, _logL_pmdec = MC_samples_and_loglikelihood( N2, data['pmdec'][index], _epmdec )\n",
    "    \n",
    "    # calculate the total log likelihood and select the N highest\n",
    "    _logL = _logL_dist + _logL_radV + _logL_pmra + _logL_pmdec\n",
    "    _order = _logL.argsort()[::-1][:N]\n",
    "    _sel = np.zeros( N2, bool )\n",
    "    _sel[_order] = True\n",
    "    \n",
    "    return _sat_dist[_sel], _sat_radV[_sel], _sat_pmra[_sel], _sat_pmdec[_sel]\n",
    "\n",
    "\n",
    "def generate_MC_percentiles_Sun(percentile,N):\n",
    "    N2 = int(N / (percentile/100)) # to obtain N samples that correspond to the 'percentile' percentage of the distribution we need to generate 'N2' samples\n",
    "    \n",
    "    _Sun_R, _logL_R = MC_samples_and_loglikelihood( N2, sun_R[0], sun_R[1] )\n",
    "    _Sun_z, _logL_z = MC_samples_and_loglikelihood( N2, sun_z[0], sun_z[1] )\n",
    "    _Sun_Vc, _logL_Vc = MC_samples_and_loglikelihood( N2, sun_vCirc[0], sun_vCirc[1] )\n",
    "    _Sun_U, _logL_U = MC_samples_and_loglikelihood( N2, sun_LSR[0,0], sun_LSR[0,1] )\n",
    "    _Sun_V, _logL_V = MC_samples_and_loglikelihood( N2, sun_LSR[1,0], sun_LSR[1,1] ) \n",
    "    _Sun_W, _logL_W = MC_samples_and_loglikelihood( N2, sun_LSR[2,0], sun_LSR[2,1] )\n",
    "    _Sun_vel = np.column_stack( (_Sun_U,_Sun_V+_Sun_Vc,_Sun_W) )\n",
    "    \n",
    "    # calculate the total log likelihood and select the N highest\n",
    "    _logL = _logL_R + _logL_z + _logL_Vc + _logL_U + _logL_V + _logL_W\n",
    "    _order = _logL.argsort()[::-1][:N]\n",
    "    _sel = np.zeros( N2, bool )\n",
    "    _sel[_order] = True\n",
    "    \n",
    "    return _Sun_R[_sel], _Sun_z[_sel], _Sun_vel[_sel]\n",
    "    \n",
    "# generate_MC_percentiles_satellites(68,10,sat_index[0])\n",
    "generate_MC_percentiles_Sun(68,10)"
   ]
  },
  {
   "cell_type": "markdown",
   "metadata": {},
   "source": [
    "### Now generate the 68 percentile MC samples"
   ]
  },
  {
   "cell_type": "code",
   "execution_count": 17,
   "metadata": {},
   "outputs": [],
   "source": [
    "# loop over the number of MC realizations and for each one obtain a set of positions and velocities w.r.t. the Galactic Centre\n",
    "number_MC = 1000  # number of Monte Carlo realizations\n",
    "target_percetile = 68\n",
    "\n",
    "# arrays for storing the final satellite positions and velocities in GC reference frame\n",
    "pos_GC = np.empty( (number_MC,numSats,3), np.float64 )\n",
    "vel_GC = np.empty( (number_MC,numSats,3), np.float64 )\n",
    "\n",
    "\n",
    "# generate MC samples for the satellite observables\n",
    "sat_dist = np.empty( (number_MC,numSats), np.float64 )\n",
    "sat_radV = np.empty( (number_MC,numSats), np.float64 )\n",
    "sat_pmra = np.empty( (number_MC,numSats), np.float64 )\n",
    "sat_pmdec= np.empty( (number_MC,numSats), np.float64 )\n",
    "sat_index= np.arange(numSats_total)[sel_valid]\n",
    "for i in range(numSats):\n",
    "    sat_dist[:,i], sat_radV[:,i], sat_pmra[:,i], sat_pmdec[:,i] = generate_MC_percentiles_satellites( target_percetile, number_MC, sat_index[i] )\n",
    "\n",
    "# generate MC samples for the Sun's position and velocity\n",
    "Sun_R, Sun_z, Sun_vel = generate_MC_percentiles_Sun( target_percetile, number_MC )\n",
    "\n",
    "\n",
    "# transform from solar to galactic coordinates\n",
    "for i in range(number_MC):\n",
    "    coords = satellite_phase_space_wrt_GC( ra=data['RA'][sel_valid], dec=data['Dec'][sel_valid], \\\n",
    "                                          dist=sat_dist[i], rad_vel=sat_radV[i], \\\n",
    "                                          pmra=sat_pmra[i], pmdec =sat_pmdec[i], \\\n",
    "                                          Sun_R=Sun_R[i], Sun_z=Sun_z[i], Sun_vel=Sun_vel[i] )\n",
    "    pos_GC[i,] = np.column_stack( (coords.x.value, coords.y.value, coords.z.value) )[order]\n",
    "    vel_GC[i,] = np.column_stack( (coords.v_x.value, coords.v_y.value, coords.v_z.value) )[order]"
   ]
  },
  {
   "cell_type": "markdown",
   "metadata": {},
   "source": [
    "### Save the MC samples"
   ]
  },
  {
   "cell_type": "code",
   "execution_count": 18,
   "metadata": {},
   "outputs": [
    {
     "name": "stderr",
     "output_type": "stream",
     "text": [
      "/opt/local/Library/Frameworks/Python.framework/Versions/3.7/lib/python3.7/site-packages/numpy/lib/format.py:363: UserWarning: metadata on a dtype may be saved or ignored, but will raise if saved when read. Use another form of storage.\n",
      "  d['descr'] = dtype_to_descr(array.dtype)\n"
     ]
    }
   ],
   "source": [
    "# output the satellite data to an hdf5 file\n",
    "outfile = \"data_output/MW_sats_MC_samples_68per.npz\"\n",
    "np.savez( outfile, satellite_names=sat_names, positions_GC=pos_GC, velocities_GC=vel_GC, \\\n",
    "         positions_GC_ML=pos_GC_ML, velocities_GC_ML=vel_GC_ML, distances_GC_ML=dis_GC_ML )\n",
    "\n",
    "import h5py\n",
    "outfile = \"data_output/MW_sats_MC_samples_68per.hdf5\"\n",
    "with h5py.File( outfile, 'w' ) as hf:\n",
    "    hf.create_dataset( 'satellite_names'  , data=np.array(sat_names,dtype='S') )\n",
    "    \n",
    "    # write the data of hosts with LMC\n",
    "    g1 = hf.create_group( \"MC_samples\" )\n",
    "    g1.create_dataset( 'pos'  , data=pos_GC, dtype='f8' )\n",
    "    g1.create_dataset( 'vel'  , data=vel_GC, dtype='f8' )\n",
    "    \n",
    "    g1 = hf.create_group( \"most_likely_values\" )\n",
    "    g1.create_dataset( 'pos'  , data=pos_GC_ML, dtype='f8' )\n",
    "    g1.create_dataset( 'vel'  , data=vel_GC_ML, dtype='f8' )\n",
    "    g1.create_dataset( 'dis'  , data=dis_GC_ML, dtype='f8' )\n",
    "    \n",
    "    # write the data of satellites around the desired hosts\n",
    "    g2 = hf.create_group( \"Observable_data\" )\n",
    "    g2.create_dataset( 'sat_dist'  , data=sat_dist, dtype='f4' )\n",
    "    g2.create_dataset( 'sat_radV'  , data=sat_radV, dtype='f4' )\n",
    "    g2.create_dataset( 'sat_pmra'  , data=sat_pmra, dtype='f4' )\n",
    "    g2.create_dataset( 'sat_pmdec' , data=sat_pmdec, dtype='f4' )\n",
    "    g2.create_dataset( 'Sun_R'   , data=Sun_R, dtype='f4' )\n",
    "    g2.create_dataset( 'Sun_z'   , data=Sun_z, dtype='f4' )\n",
    "    g2.create_dataset( 'Sun_vel' , data=Sun_vel, dtype='f4' )\n",
    "    \n",
    "    grp = hf.create_group( \"metadata\" )\n",
    "    grp.attrs[\"units\"]     = np.string_( \"Positions: kpc;  Velocities: km/s\" )\n",
    "    grp.attrs[\"num_Monte_Carlos\"] = pos_GC.shape[0]\n",
    "    grp.attrs[\"num_satellites\"]   = pos_GC.shape[1]\n",
    "    grp.attrs[\"program_options\"]  = \"Obtained using the 'MW_satellites_errors.ipynb' jupyter notebook\""
   ]
  },
  {
   "cell_type": "markdown",
   "metadata": {},
   "source": [
    "### A quick check of the position and velocity percentage error"
   ]
  },
  {
   "cell_type": "code",
   "execution_count": 19,
   "metadata": {},
   "outputs": [
    {
     "name": "stdout",
     "output_type": "stream",
     "text": [
      "Uncertainties in the coordinates and velocities of the satellites (in percentage):\n",
      "                  x     y     z     v_x   v_y   v_z\n",
      "b'SagittariusdSph'   7.80  0.76  2.01  1.67  5.14  4.26  \n",
      "    b'*Tucana3'   2.55  2.52  5.36  1.70  3.95  2.61  \n",
      "     b'*Draco2'   0.20  1.21  1.14  1.84  1.35  1.39  \n",
      "     b'Hydrus1'   0.58  1.11  0.94  0.85  1.55  1.29  \n",
      "    b'Segue(1)'   2.95  2.53  4.73  2.45  10.46  6.73  \n",
      "     b'Carina3'   0.07  3.41  1.03  1.69  1.48  4.30  \n",
      " b'*Reticulum2'   0.31  4.34  5.14  1.01  9.14  7.68  \n",
      "b'*Triangulum2'   2.11  1.71  1.19  1.49  1.82  2.04  \n",
      "     b'Carina2'   0.06  1.65  0.51  0.94  0.67  1.50  \n",
      "  b'UrsaMajor2'   6.20  3.24  5.39  3.08  11.27  10.22  \n",
      "     b'Bootes2'   0.82  0.09  2.11  3.72  4.02  1.72  \n",
      "      b'Segue2'   1.98  1.17  1.80  4.60  5.59  3.15  \n",
      "    b'Willman1'   6.64  2.62  10.96  9.21  22.08  9.95  \n",
      "b'ComaBerenices'   0.38  0.72  7.31  7.06  7.25  0.48  \n",
      "    b'*Tucana4'   2.84  3.03  6.02  4.77  12.67  6.72  \n",
      "      b'*Grus2'   4.94  0.77  6.41  3.38  15.41  1.96  \n",
      "         b'LMC'   0.51  2.78  1.83  1.94  2.98  4.02  \n",
      "    b'*Tucana5'   5.82  5.59  10.33  6.63  13.54  10.16  \n",
      "     b'Tucana2'   3.97  2.49  6.10  4.64  9.42  1.50  \n",
      "         b'SMC'   1.67  2.60  3.03  2.68  6.16  4.82  \n",
      "   b'Bootes(1)'   1.04  0.03  2.75  2.12  5.34  1.18  \n",
      "b'*Sagittarius2'   0.87  0.30  0.41  1.67  2.55  2.83  \n",
      "       b'Draco'   0.34  5.14  3.57  2.92  0.95  0.72  \n",
      "   b'UrsaMinor'   0.65  2.43  2.50  1.27  1.06  0.55  \n",
      "b'*Horologium2'   0.58  4.19  5.84  52.92  47.23  34.61  \n",
      "b'*Horologium1'   0.12  4.12  5.83  4.62  12.30  8.71  \n",
      "   b'*Phoenix2'   3.13  2.31  6.70  4.51  14.35  4.94  \n",
      "    b'Sculptor'   0.20  0.59  5.15  0.49  2.27  0.31  \n",
      "  b'Sextans(1)'   1.12  2.26  2.30  2.54  1.22  1.68  \n",
      " b'*Reticulum3'   0.53  7.93  8.13  56.39  33.01  32.90  \n",
      "b'UrsaMajor(1)'   1.87  0.71  2.81  8.24  12.41  5.13  \n",
      "   b'Aquarius2'   0.91  1.30  2.11  21.61  17.37  13.62  \n",
      "      b'Carina'   0.74  4.23  1.75  2.14  2.87  6.62  \n",
      "     b'Crater2'   0.14  0.52  0.48  5.79  3.41  2.73  \n",
      "      b'*Grus1'   3.63  1.42  6.32  9.89  14.70  6.54  \n",
      "    b'Hercules'   5.20  2.84  4.42  6.89  9.12  7.09  \n",
      "      b'Hydra2'   2.26  4.69  3.05  30.99  19.91  23.71  \n",
      "     b'Antlia2'   0.35  3.96  0.79  4.41  1.40  3.65  \n",
      "      b'Fornax'   1.44  2.21  5.82  1.08  15.59  5.72  \n",
      "        b'Leo4'   0.16  1.74  2.65  87.60  71.67  47.82  \n",
      "b'CanesVenatici2'   0.14  0.25  2.16  41.44  38.55  4.79  \n",
      "     b'Pisces2'   0.77  4.04  4.43  96.84  75.41  68.89  \n",
      "   b'*Columba1'   4.33  5.46  3.83  18.97  17.02  17.24  \n",
      "        b'Leo5'   0.42  2.94  4.85  76.94  62.46  38.29  \n",
      "   b'*Pegasus3'   1.83  5.01  4.77  131.10  91.58  96.16  \n",
      "b'CanesVenatici(1)'   0.21  0.62  3.59  14.88  15.70  2.89  \n",
      "        b'Leo2'   1.39  1.18  4.35  16.13  17.01  7.00  \n",
      "        b'Leo1'   2.15  2.24  3.60  4.62  5.57  3.92  \n"
     ]
    }
   ],
   "source": [
    "velM_ML = (vel_GC_ML**2).sum(axis=1)**0.5\n",
    "\n",
    "out = np.column_stack( (pos_GC.std(axis=0)/dis_GC_ML[:,None], vel_GC.std(axis=0)/velM_ML[:,None]) ) * 100.\n",
    "\n",
    "print(\"Uncertainties in the coordinates and velocities of the satellites (in percentage):\")\n",
    "print(\"                  x     y     z     v_x   v_y   v_z\")\n",
    "for i in range( len(sat_names) ):\n",
    "    print( \"%15s   \" % sat_names[i], end=\"\" )\n",
    "    for j in range(6):\n",
    "        print(\"%.2f  \" % out[i,j], end=\"\")\n",
    "    print()\n",
    "# print( np.column_stack( (sat_names, pos_GC.std(axis=0)/dis_GC_ML[:,None], vel_GC.std(axis=0)/velM_ML[:,None]) ) )\n"
   ]
  },
  {
   "cell_type": "code",
   "execution_count": null,
   "metadata": {},
   "outputs": [],
   "source": []
  },
  {
   "cell_type": "code",
   "execution_count": null,
   "metadata": {},
   "outputs": [],
   "source": []
  }
 ],
 "metadata": {
  "kernelspec": {
   "display_name": "Python 3",
   "language": "python",
   "name": "python3"
  },
  "language_info": {
   "codemirror_mode": {
    "name": "ipython",
    "version": 3
   },
   "file_extension": ".py",
   "mimetype": "text/x-python",
   "name": "python",
   "nbconvert_exporter": "python",
   "pygments_lexer": "ipython3",
   "version": "3.7.11"
  }
 },
 "nbformat": 4,
 "nbformat_minor": 4
}
